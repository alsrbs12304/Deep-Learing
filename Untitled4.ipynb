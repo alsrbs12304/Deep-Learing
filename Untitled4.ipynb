{
  "nbformat": 4,
  "nbformat_minor": 0,
  "metadata": {
    "colab": {
      "name": "Untitled4.ipynb",
      "provenance": [],
      "authorship_tag": "ABX9TyOqrP+yO14fTgfdvYMCiJsX",
      "include_colab_link": true
    },
    "kernelspec": {
      "name": "python3",
      "display_name": "Python 3"
    },
    "language_info": {
      "name": "python"
    },
    "accelerator": "GPU"
  },
  "cells": [
    {
      "cell_type": "markdown",
      "metadata": {
        "id": "view-in-github",
        "colab_type": "text"
      },
      "source": [
        "<a href=\"https://colab.research.google.com/github/alsrbs12304/Deep-Learing/blob/main/Untitled4.ipynb\" target=\"_parent\"><img src=\"https://colab.research.google.com/assets/colab-badge.svg\" alt=\"Open In Colab\"/></a>"
      ]
    },
    {
      "cell_type": "code",
      "metadata": {
        "id": "X76dRa4zDPyD"
      },
      "source": [
        "import numpy as np\n",
        "import matplotlib.pyplot as plt\n",
        "import torch\n",
        "import torch.nn as nn\n",
        "import torch.nn.functional as F\n",
        "from torchvision import transforms, datasets"
      ],
      "execution_count": 2,
      "outputs": []
    },
    {
      "cell_type": "code",
      "metadata": {
        "colab": {
          "base_uri": "https://localhost:8080/"
        },
        "id": "3KTQYU5jDTfX",
        "outputId": "bc88754b-ef3f-42cd-cab4-4d03478e0005"
      },
      "source": [
        "if torch.cuda.is_available():\n",
        "    DEVICE = torch.device('cuda')\n",
        "else:\n",
        "    DEVICE = torch.device('cpu')\n",
        "\n",
        "print('Using PyTorch version:', torch.__version__, ' Device:', DEVICE)"
      ],
      "execution_count": 3,
      "outputs": [
        {
          "output_type": "stream",
          "name": "stdout",
          "text": [
            "Using PyTorch version: 1.9.0+cu111  Device: cuda\n"
          ]
        }
      ]
    },
    {
      "cell_type": "code",
      "metadata": {
        "id": "o3YKgKDWDViX"
      },
      "source": [
        "BATCH_SIZE = 32\n",
        "EPOCHS = 10"
      ],
      "execution_count": 3,
      "outputs": []
    },
    {
      "cell_type": "code",
      "metadata": {
        "colab": {
          "base_uri": "https://localhost:8080/"
        },
        "id": "YUvfV6atDZtT",
        "outputId": "872aef0b-3b30-4a0a-9f65-550aed87566d"
      },
      "source": [
        "!pwd"
      ],
      "execution_count": 4,
      "outputs": [
        {
          "output_type": "stream",
          "name": "stdout",
          "text": [
            "/content\n"
          ]
        }
      ]
    },
    {
      "cell_type": "code",
      "metadata": {
        "colab": {
          "base_uri": "https://localhost:8080/"
        },
        "id": "2PIOu2T3Dapy",
        "outputId": "24e9b8ab-7a77-4287-a231-1be85974bb64"
      },
      "source": [
        "!ls"
      ],
      "execution_count": 5,
      "outputs": [
        {
          "output_type": "stream",
          "name": "stdout",
          "text": [
            "data  sample_data\n"
          ]
        }
      ]
    },
    {
      "cell_type": "code",
      "metadata": {
        "colab": {
          "base_uri": "https://localhost:8080/"
        },
        "id": "H8go_UQ-DdNv",
        "outputId": "2e3f116c-aa37-4ccc-d6da-89f1879ece87"
      },
      "source": [
        "train_dataset = datasets.MNIST(root = \"./data/MNIST\",\n",
        "                               train = True,\n",
        "                               download = True,\n",
        "                               transform = transforms.ToTensor())\n",
        "\n",
        "test_dataset = datasets.MNIST(root = \"./data/MNIST\",\n",
        "                              train = False,\n",
        "                              transform = transforms.ToTensor())"
      ],
      "execution_count": 6,
      "outputs": [
        {
          "output_type": "stream",
          "name": "stderr",
          "text": [
            "/usr/local/lib/python3.7/dist-packages/torchvision/datasets/mnist.py:498: UserWarning: The given NumPy array is not writeable, and PyTorch does not support non-writeable tensors. This means you can write to the underlying (supposedly non-writeable) NumPy array using the tensor. You may want to copy the array to protect its data or make it writeable before converting it to a tensor. This type of warning will be suppressed for the rest of this program. (Triggered internally at  /pytorch/torch/csrc/utils/tensor_numpy.cpp:180.)\n",
            "  return torch.from_numpy(parsed.astype(m[2], copy=False)).view(*s)\n"
          ]
        }
      ]
    },
    {
      "cell_type": "code",
      "metadata": {
        "id": "j6cLeDVZDfQN"
      },
      "source": [
        "train_loader = torch.utils.data.DataLoader(dataset = train_dataset,\n",
        "                                           batch_size = BATCH_SIZE,\n",
        "                                           shuffle = True)\n",
        "\n",
        "test_loader = torch.utils.data.DataLoader(dataset = test_dataset,\n",
        "                                          batch_size = BATCH_SIZE,\n",
        "                                          shuffle = False)"
      ],
      "execution_count": 7,
      "outputs": []
    },
    {
      "cell_type": "code",
      "metadata": {
        "colab": {
          "base_uri": "https://localhost:8080/"
        },
        "id": "9wpX4jt1Dgas",
        "outputId": "7037ef36-1c45-4c43-d8e7-40d8acf2ab2b"
      },
      "source": [
        "for (X_train, y_train) in train_loader:\n",
        "    print('X_train:', X_train.size(), 'type:', X_train.type())\n",
        "    print('y_train:', y_train.size(), 'type:', y_train.type())\n",
        "    break"
      ],
      "execution_count": 8,
      "outputs": [
        {
          "output_type": "stream",
          "name": "stdout",
          "text": [
            "X_train: torch.Size([32, 1, 28, 28]) type: torch.FloatTensor\n",
            "y_train: torch.Size([32]) type: torch.LongTensor\n"
          ]
        }
      ]
    },
    {
      "cell_type": "code",
      "metadata": {
        "colab": {
          "base_uri": "https://localhost:8080/",
          "height": 94
        },
        "id": "x8EuVVpyDhsQ",
        "outputId": "93595409-b7f1-4395-af82-0caf04f5d1a3"
      },
      "source": [
        "pltsize = 1\n",
        "plt.figure(figsize=(10 * pltsize, pltsize))\n",
        "for i in range(10):\n",
        "    plt.subplot(1, 10, i + 1)\n",
        "    plt.axis('off')\n",
        "    plt.imshow(X_train[i, :, :, :].numpy().reshape(28, 28), cmap = \"gray_r\")\n",
        "    plt.title('Class: ' + str(y_train[i].item()))"
      ],
      "execution_count": 9,
      "outputs": [
        {
          "output_type": "display_data",
          "data": {
            "image/png": "[encoded data removed]",
            "text/plain": [
              "<Figure size 720x72 with 10 Axes>"
            ]
          },
          "metadata": {
            "needs_background": "light"
          }
        }
      ]
    },
    {
      "cell_type": "markdown",
      "metadata": {
        "id": "zedtWBdl5O6M"
      },
      "source": [
        "# Sigmoid"
      ]
    },
    {
      "cell_type": "code",
      "metadata": {
        "id": "4ipt9oMODjRZ"
      },
      "source": [
        "class Net(nn.Module):\n",
        "    def __init__(self):\n",
        "        super(Net, self).__init__()\n",
        "        self.fc1 = nn.Linear(28 * 28, 512)\n",
        "        self.fc2 = nn.Linear(512, 256)\n",
        "        self.fc3 = nn.Linear(256, 10)\n",
        "    def forward(self, x):\n",
        "        x = x.view(-1, 28 * 28)\n",
        "        x = self.fc1(x)\n",
        "        x = F.sigmoid(x)\n",
        "        x = self.fc2(x)\n",
        "        x = F.sigmoid(x)\n",
        "        x = self.fc3(x)\n",
        "        x = F.log_softmax(x, dim = 1)\n",
        "        return x"
      ],
      "execution_count": null,
      "outputs": []
    },
    {
      "cell_type": "code",
      "metadata": {
        "colab": {
          "base_uri": "https://localhost:8080/"
        },
        "id": "SxhCnO01Dl59",
        "outputId": "de33b2e9-9e1b-4de7-f53c-8c0cfc29b400"
      },
      "source": [
        "model = Net().to(DEVICE)\n",
        "optimizer = torch.optim.SGD(model.parameters(), lr = 0.01, momentum = 0.5)\n",
        "criterion = nn.CrossEntropyLoss()\n",
        "\n",
        "print(model)"
      ],
      "execution_count": null,
      "outputs": [
        {
          "output_type": "stream",
          "name": "stdout",
          "text": [
            "Net(\n",
            "  (fc1): Linear(in_features=784, out_features=512, bias=True)\n",
            "  (fc2): Linear(in_features=512, out_features=256, bias=True)\n",
            "  (fc3): Linear(in_features=256, out_features=10, bias=True)\n",
            "  (batch_norm1): BatchNorm1d(512, eps=1e-05, momentum=0.1, affine=True, track_running_stats=True)\n",
            "  (batch_norm2): BatchNorm1d(256, eps=1e-05, momentum=0.1, affine=True, track_running_stats=True)\n",
            ")\n"
          ]
        }
      ]
    },
    {
      "cell_type": "code",
      "metadata": {
        "id": "yHx1Jg4nEVce"
      },
      "source": [
        "def train(model, train_loader, optimizer, log_interval):\n",
        "    model.train()\n",
        "    for batch_idx, (image, label) in enumerate(train_loader):\n",
        "        image = image.to(DEVICE)\n",
        "        label = label.to(DEVICE)\n",
        "        optimizer.zero_grad()\n",
        "        output = model(image)\n",
        "        loss = criterion(output, label)\n",
        "        loss.backward()\n",
        "        optimizer.step()\n",
        "\n",
        "        if batch_idx % log_interval == 0:\n",
        "            print(\"Train Epoch: {} [{}/{} ({:.0f}%)]\\tTrain Loss: {:.6f}\".format(\n",
        "                epoch, batch_idx * len(image), \n",
        "                len(train_loader.dataset), 100. * batch_idx / len(train_loader), \n",
        "                loss.item()))"
      ],
      "execution_count": null,
      "outputs": []
    },
    {
      "cell_type": "code",
      "metadata": {
        "id": "j-IeuMTnEWEY"
      },
      "source": [
        "def evaluate(model, test_loader):\n",
        "    model.eval()\n",
        "    test_loss = 0\n",
        "    correct = 0\n",
        "\n",
        "    with torch.no_grad():\n",
        "        for image, label in test_loader:\n",
        "            image = image.to(DEVICE)\n",
        "            label = label.to(DEVICE)\n",
        "            output = model(image)\n",
        "            test_loss += criterion(output, label).item()\n",
        "            prediction = output.max(1, keepdim = True)[1]\n",
        "            correct += prediction.eq(label.view_as(prediction)).sum().item()\n",
        "    \n",
        "    test_loss /= (len(test_loader.dataset) / BATCH_SIZE)\n",
        "    test_accuracy = 100. * correct / len(test_loader.dataset)\n",
        "    return test_loss, test_accuracy"
      ],
      "execution_count": null,
      "outputs": []
    },
    {
      "cell_type": "code",
      "metadata": {
        "colab": {
          "base_uri": "https://localhost:8080/"
        },
        "id": "Prvrs3R1EXbS",
        "outputId": "f9df27f8-3c32-4bd1-b1f0-a6f8178e43c5"
      },
      "source": [
        "#@title\n",
        "for epoch in range(1, EPOCHS + 1):\n",
        "    train(model, train_loader, optimizer, log_interval = 200)\n",
        "    test_loss, test_accuracy = evaluate(model, test_loader)\n",
        "    print(\"\\n[EPOCH: {}], \\tTest Loss: {:.4f}, \\tTest Accuracy: {:.2f} % \\n\".format(\n",
        "        epoch, test_loss, test_accuracy))"
      ],
      "execution_count": null,
      "outputs": [
        {
          "output_type": "stream",
          "name": "stdout",
          "text": [
            "Train Epoch: 1 [0/60000 (0%)]\tTrain Loss: 2.434333\n",
            "Train Epoch: 1 [6400/60000 (11%)]\tTrain Loss: 0.414395\n",
            "Train Epoch: 1 [12800/60000 (21%)]\tTrain Loss: 0.277908\n",
            "Train Epoch: 1 [19200/60000 (32%)]\tTrain Loss: 0.353316\n",
            "Train Epoch: 1 [25600/60000 (43%)]\tTrain Loss: 0.542946\n",
            "Train Epoch: 1 [32000/60000 (53%)]\tTrain Loss: 0.625217\n",
            "Train Epoch: 1 [38400/60000 (64%)]\tTrain Loss: 0.342085\n",
            "Train Epoch: 1 [44800/60000 (75%)]\tTrain Loss: 0.314643\n",
            "Train Epoch: 1 [51200/60000 (85%)]\tTrain Loss: 0.160924\n",
            "Train Epoch: 1 [57600/60000 (96%)]\tTrain Loss: 0.362432\n",
            "\n",
            "[EPOCH: 1], \tTest Loss: 0.1492, \tTest Accuracy: 95.60 % \n",
            "\n",
            "Train Epoch: 2 [0/60000 (0%)]\tTrain Loss: 0.171501\n",
            "Train Epoch: 2 [6400/60000 (11%)]\tTrain Loss: 0.228426\n",
            "Train Epoch: 2 [12800/60000 (21%)]\tTrain Loss: 0.272895\n",
            "Train Epoch: 2 [19200/60000 (32%)]\tTrain Loss: 0.152473\n",
            "Train Epoch: 2 [25600/60000 (43%)]\tTrain Loss: 0.163313\n",
            "Train Epoch: 2 [32000/60000 (53%)]\tTrain Loss: 0.064482\n",
            "Train Epoch: 2 [38400/60000 (64%)]\tTrain Loss: 0.716168\n",
            "Train Epoch: 2 [44800/60000 (75%)]\tTrain Loss: 0.531752\n",
            "Train Epoch: 2 [51200/60000 (85%)]\tTrain Loss: 0.317965\n",
            "Train Epoch: 2 [57600/60000 (96%)]\tTrain Loss: 0.105608\n",
            "\n",
            "[EPOCH: 2], \tTest Loss: 0.1120, \tTest Accuracy: 96.62 % \n",
            "\n",
            "Train Epoch: 3 [0/60000 (0%)]\tTrain Loss: 0.398250\n",
            "Train Epoch: 3 [6400/60000 (11%)]\tTrain Loss: 0.071356\n",
            "Train Epoch: 3 [12800/60000 (21%)]\tTrain Loss: 0.225731\n",
            "Train Epoch: 3 [19200/60000 (32%)]\tTrain Loss: 0.222354\n",
            "Train Epoch: 3 [25600/60000 (43%)]\tTrain Loss: 0.299156\n",
            "Train Epoch: 3 [32000/60000 (53%)]\tTrain Loss: 0.154108\n",
            "Train Epoch: 3 [38400/60000 (64%)]\tTrain Loss: 0.118882\n",
            "Train Epoch: 3 [44800/60000 (75%)]\tTrain Loss: 0.161161\n",
            "Train Epoch: 3 [51200/60000 (85%)]\tTrain Loss: 0.086886\n",
            "Train Epoch: 3 [57600/60000 (96%)]\tTrain Loss: 0.085481\n",
            "\n",
            "[EPOCH: 3], \tTest Loss: 0.0970, \tTest Accuracy: 96.90 % \n",
            "\n",
            "Train Epoch: 4 [0/60000 (0%)]\tTrain Loss: 0.259391\n",
            "Train Epoch: 4 [6400/60000 (11%)]\tTrain Loss: 0.220535\n",
            "Train Epoch: 4 [12800/60000 (21%)]\tTrain Loss: 0.084835\n",
            "Train Epoch: 4 [19200/60000 (32%)]\tTrain Loss: 0.224616\n",
            "Train Epoch: 4 [25600/60000 (43%)]\tTrain Loss: 0.110541\n",
            "Train Epoch: 4 [32000/60000 (53%)]\tTrain Loss: 0.288306\n",
            "Train Epoch: 4 [38400/60000 (64%)]\tTrain Loss: 0.068254\n",
            "Train Epoch: 4 [44800/60000 (75%)]\tTrain Loss: 0.120326\n",
            "Train Epoch: 4 [51200/60000 (85%)]\tTrain Loss: 0.468463\n",
            "Train Epoch: 4 [57600/60000 (96%)]\tTrain Loss: 0.148897\n",
            "\n",
            "[EPOCH: 4], \tTest Loss: 0.0859, \tTest Accuracy: 97.37 % \n",
            "\n",
            "Train Epoch: 5 [0/60000 (0%)]\tTrain Loss: 0.102085\n",
            "Train Epoch: 5 [6400/60000 (11%)]\tTrain Loss: 0.168475\n",
            "Train Epoch: 5 [12800/60000 (21%)]\tTrain Loss: 0.141379\n",
            "Train Epoch: 5 [19200/60000 (32%)]\tTrain Loss: 0.118286\n",
            "Train Epoch: 5 [25600/60000 (43%)]\tTrain Loss: 0.073006\n",
            "Train Epoch: 5 [32000/60000 (53%)]\tTrain Loss: 0.163958\n",
            "Train Epoch: 5 [38400/60000 (64%)]\tTrain Loss: 0.218148\n",
            "Train Epoch: 5 [44800/60000 (75%)]\tTrain Loss: 0.390795\n",
            "Train Epoch: 5 [51200/60000 (85%)]\tTrain Loss: 0.476599\n",
            "Train Epoch: 5 [57600/60000 (96%)]\tTrain Loss: 0.059526\n",
            "\n",
            "[EPOCH: 5], \tTest Loss: 0.0799, \tTest Accuracy: 97.61 % \n",
            "\n",
            "Train Epoch: 6 [0/60000 (0%)]\tTrain Loss: 0.119065\n",
            "Train Epoch: 6 [6400/60000 (11%)]\tTrain Loss: 0.138967\n",
            "Train Epoch: 6 [12800/60000 (21%)]\tTrain Loss: 0.087090\n",
            "Train Epoch: 6 [19200/60000 (32%)]\tTrain Loss: 0.078568\n",
            "Train Epoch: 6 [25600/60000 (43%)]\tTrain Loss: 0.092914\n",
            "Train Epoch: 6 [32000/60000 (53%)]\tTrain Loss: 0.077961\n",
            "Train Epoch: 6 [38400/60000 (64%)]\tTrain Loss: 0.131087\n",
            "Train Epoch: 6 [44800/60000 (75%)]\tTrain Loss: 0.088443\n",
            "Train Epoch: 6 [51200/60000 (85%)]\tTrain Loss: 0.141716\n",
            "Train Epoch: 6 [57600/60000 (96%)]\tTrain Loss: 0.062066\n",
            "\n",
            "[EPOCH: 6], \tTest Loss: 0.0772, \tTest Accuracy: 97.62 % \n",
            "\n",
            "Train Epoch: 7 [0/60000 (0%)]\tTrain Loss: 0.078769\n",
            "Train Epoch: 7 [6400/60000 (11%)]\tTrain Loss: 0.042452\n",
            "Train Epoch: 7 [12800/60000 (21%)]\tTrain Loss: 0.060046\n",
            "Train Epoch: 7 [19200/60000 (32%)]\tTrain Loss: 0.072549\n",
            "Train Epoch: 7 [25600/60000 (43%)]\tTrain Loss: 0.038254\n",
            "Train Epoch: 7 [32000/60000 (53%)]\tTrain Loss: 0.205339\n",
            "Train Epoch: 7 [38400/60000 (64%)]\tTrain Loss: 0.121607\n",
            "Train Epoch: 7 [44800/60000 (75%)]\tTrain Loss: 0.203731\n",
            "Train Epoch: 7 [51200/60000 (85%)]\tTrain Loss: 0.131978\n",
            "Train Epoch: 7 [57600/60000 (96%)]\tTrain Loss: 0.163268\n",
            "\n",
            "[EPOCH: 7], \tTest Loss: 0.0723, \tTest Accuracy: 97.77 % \n",
            "\n",
            "Train Epoch: 8 [0/60000 (0%)]\tTrain Loss: 0.073366\n",
            "Train Epoch: 8 [6400/60000 (11%)]\tTrain Loss: 0.038600\n",
            "Train Epoch: 8 [12800/60000 (21%)]\tTrain Loss: 0.253343\n",
            "Train Epoch: 8 [19200/60000 (32%)]\tTrain Loss: 0.088564\n",
            "Train Epoch: 8 [25600/60000 (43%)]\tTrain Loss: 0.442423\n",
            "Train Epoch: 8 [32000/60000 (53%)]\tTrain Loss: 0.418149\n",
            "Train Epoch: 8 [38400/60000 (64%)]\tTrain Loss: 0.134290\n",
            "Train Epoch: 8 [44800/60000 (75%)]\tTrain Loss: 0.172049\n",
            "Train Epoch: 8 [51200/60000 (85%)]\tTrain Loss: 0.452969\n",
            "Train Epoch: 8 [57600/60000 (96%)]\tTrain Loss: 0.125385\n",
            "\n",
            "[EPOCH: 8], \tTest Loss: 0.0686, \tTest Accuracy: 97.92 % \n",
            "\n",
            "Train Epoch: 9 [0/60000 (0%)]\tTrain Loss: 0.156405\n",
            "Train Epoch: 9 [6400/60000 (11%)]\tTrain Loss: 0.204805\n",
            "Train Epoch: 9 [12800/60000 (21%)]\tTrain Loss: 0.244407\n",
            "Train Epoch: 9 [19200/60000 (32%)]\tTrain Loss: 0.042981\n",
            "Train Epoch: 9 [25600/60000 (43%)]\tTrain Loss: 0.062392\n",
            "Train Epoch: 9 [32000/60000 (53%)]\tTrain Loss: 0.214735\n",
            "Train Epoch: 9 [38400/60000 (64%)]\tTrain Loss: 0.026922\n",
            "Train Epoch: 9 [44800/60000 (75%)]\tTrain Loss: 0.240605\n",
            "Train Epoch: 9 [51200/60000 (85%)]\tTrain Loss: 0.211976\n",
            "Train Epoch: 9 [57600/60000 (96%)]\tTrain Loss: 0.182050\n",
            "\n",
            "[EPOCH: 9], \tTest Loss: 0.0672, \tTest Accuracy: 97.81 % \n",
            "\n",
            "Train Epoch: 10 [0/60000 (0%)]\tTrain Loss: 0.165349\n",
            "Train Epoch: 10 [6400/60000 (11%)]\tTrain Loss: 0.028427\n",
            "Train Epoch: 10 [12800/60000 (21%)]\tTrain Loss: 0.133490\n",
            "Train Epoch: 10 [19200/60000 (32%)]\tTrain Loss: 0.044778\n",
            "Train Epoch: 10 [25600/60000 (43%)]\tTrain Loss: 0.142183\n",
            "Train Epoch: 10 [32000/60000 (53%)]\tTrain Loss: 0.118831\n",
            "Train Epoch: 10 [38400/60000 (64%)]\tTrain Loss: 0.048538\n",
            "Train Epoch: 10 [44800/60000 (75%)]\tTrain Loss: 0.220887\n",
            "Train Epoch: 10 [51200/60000 (85%)]\tTrain Loss: 0.137338\n",
            "Train Epoch: 10 [57600/60000 (96%)]\tTrain Loss: 0.198886\n",
            "\n",
            "[EPOCH: 10], \tTest Loss: 0.0632, \tTest Accuracy: 98.05 % \n",
            "\n"
          ]
        }
      ]
    },
    {
      "cell_type": "markdown",
      "metadata": {
        "id": "Aaetp0ex6HKx"
      },
      "source": [
        "# with Dropout"
      ]
    },
    {
      "cell_type": "code",
      "metadata": {
        "id": "cMVG6JKX6HK6"
      },
      "source": [
        "class Net(nn.Module):\n",
        "    def __init__(self):\n",
        "        super(Net, self).__init__()\n",
        "        self.fc1 = nn.Linear(28 * 28, 512)\n",
        "        self.fc2 = nn.Linear(512, 256)\n",
        "        self.fc3 = nn.Linear(256, 10)\n",
        "        self.dropout_prob = 0.5\n",
        "\n",
        "    def forward(self, x):\n",
        "        x = x.view(-1, 28 * 28)\n",
        "        x = self.fc1(x)\n",
        "        x = F.sigmoid(x)\n",
        "        x = F.dropout(x, training=self.training, p = self.dropout_prob)\n",
        "        x = self.fc2(x)\n",
        "        x = F.sigmoid(x)\n",
        "        x = F.dropout(x, training=self.training, p = self.dropout_prob)\n",
        "        x = self.fc3(x)\n",
        "        x = F.log_softmax(x, dim = 1)\n",
        "        return x"
      ],
      "execution_count": null,
      "outputs": []
    },
    {
      "cell_type": "code",
      "metadata": {
        "colab": {
          "base_uri": "https://localhost:8080/"
        },
        "id": "y05xWWDe6HK6",
        "outputId": "de33b2e9-9e1b-4de7-f53c-8c0cfc29b400"
      },
      "source": [
        "model = Net().to(DEVICE)\n",
        "optimizer = torch.optim.SGD(model.parameters(), lr = 0.01, momentum = 0.5)\n",
        "criterion = nn.CrossEntropyLoss()\n",
        "\n",
        "print(model)"
      ],
      "execution_count": null,
      "outputs": [
        {
          "output_type": "stream",
          "name": "stdout",
          "text": [
            "Net(\n",
            "  (fc1): Linear(in_features=784, out_features=512, bias=True)\n",
            "  (fc2): Linear(in_features=512, out_features=256, bias=True)\n",
            "  (fc3): Linear(in_features=256, out_features=10, bias=True)\n",
            "  (batch_norm1): BatchNorm1d(512, eps=1e-05, momentum=0.1, affine=True, track_running_stats=True)\n",
            "  (batch_norm2): BatchNorm1d(256, eps=1e-05, momentum=0.1, affine=True, track_running_stats=True)\n",
            ")\n"
          ]
        }
      ]
    },
    {
      "cell_type": "code",
      "metadata": {
        "id": "3pR5cdNl6HK7"
      },
      "source": [
        "def train(model, train_loader, optimizer, log_interval):\n",
        "    model.train()\n",
        "    for batch_idx, (image, label) in enumerate(train_loader):\n",
        "        image = image.to(DEVICE)\n",
        "        label = label.to(DEVICE)\n",
        "        optimizer.zero_grad()\n",
        "        output = model(image)\n",
        "        loss = criterion(output, label)\n",
        "        loss.backward()\n",
        "        optimizer.step()\n",
        "\n",
        "        if batch_idx % log_interval == 0:\n",
        "            print(\"Train Epoch: {} [{}/{} ({:.0f}%)]\\tTrain Loss: {:.6f}\".format(\n",
        "                epoch, batch_idx * len(image), \n",
        "                len(train_loader.dataset), 100. * batch_idx / len(train_loader), \n",
        "                loss.item()))"
      ],
      "execution_count": null,
      "outputs": []
    },
    {
      "cell_type": "code",
      "metadata": {
        "id": "S_SX8yRk6HK7"
      },
      "source": [
        "def evaluate(model, test_loader):\n",
        "    model.eval()\n",
        "    test_loss = 0\n",
        "    correct = 0\n",
        "\n",
        "    with torch.no_grad():\n",
        "        for image, label in test_loader:\n",
        "            image = image.to(DEVICE)\n",
        "            label = label.to(DEVICE)\n",
        "            output = model(image)\n",
        "            test_loss += criterion(output, label).item()\n",
        "            prediction = output.max(1, keepdim = True)[1]\n",
        "            correct += prediction.eq(label.view_as(prediction)).sum().item()\n",
        "    \n",
        "    test_loss /= (len(test_loader.dataset) / BATCH_SIZE)\n",
        "    test_accuracy = 100. * correct / len(test_loader.dataset)\n",
        "    return test_loss, test_accuracy"
      ],
      "execution_count": null,
      "outputs": []
    },
    {
      "cell_type": "code",
      "metadata": {
        "colab": {
          "base_uri": "https://localhost:8080/"
        },
        "id": "f2qt390K6HK7",
        "outputId": "f9df27f8-3c32-4bd1-b1f0-a6f8178e43c5"
      },
      "source": [
        "#@title\n",
        "for epoch in range(1, EPOCHS + 1):\n",
        "    train(model, train_loader, optimizer, log_interval = 200)\n",
        "    test_loss, test_accuracy = evaluate(model, test_loader)\n",
        "    print(\"\\n[EPOCH: {}], \\tTest Loss: {:.4f}, \\tTest Accuracy: {:.2f} % \\n\".format(\n",
        "        epoch, test_loss, test_accuracy))"
      ],
      "execution_count": null,
      "outputs": [
        {
          "output_type": "stream",
          "name": "stdout",
          "text": [
            "Train Epoch: 1 [0/60000 (0%)]\tTrain Loss: 2.434333\n",
            "Train Epoch: 1 [6400/60000 (11%)]\tTrain Loss: 0.414395\n",
            "Train Epoch: 1 [12800/60000 (21%)]\tTrain Loss: 0.277908\n",
            "Train Epoch: 1 [19200/60000 (32%)]\tTrain Loss: 0.353316\n",
            "Train Epoch: 1 [25600/60000 (43%)]\tTrain Loss: 0.542946\n",
            "Train Epoch: 1 [32000/60000 (53%)]\tTrain Loss: 0.625217\n",
            "Train Epoch: 1 [38400/60000 (64%)]\tTrain Loss: 0.342085\n",
            "Train Epoch: 1 [44800/60000 (75%)]\tTrain Loss: 0.314643\n",
            "Train Epoch: 1 [51200/60000 (85%)]\tTrain Loss: 0.160924\n",
            "Train Epoch: 1 [57600/60000 (96%)]\tTrain Loss: 0.362432\n",
            "\n",
            "[EPOCH: 1], \tTest Loss: 0.1492, \tTest Accuracy: 95.60 % \n",
            "\n",
            "Train Epoch: 2 [0/60000 (0%)]\tTrain Loss: 0.171501\n",
            "Train Epoch: 2 [6400/60000 (11%)]\tTrain Loss: 0.228426\n",
            "Train Epoch: 2 [12800/60000 (21%)]\tTrain Loss: 0.272895\n",
            "Train Epoch: 2 [19200/60000 (32%)]\tTrain Loss: 0.152473\n",
            "Train Epoch: 2 [25600/60000 (43%)]\tTrain Loss: 0.163313\n",
            "Train Epoch: 2 [32000/60000 (53%)]\tTrain Loss: 0.064482\n",
            "Train Epoch: 2 [38400/60000 (64%)]\tTrain Loss: 0.716168\n",
            "Train Epoch: 2 [44800/60000 (75%)]\tTrain Loss: 0.531752\n",
            "Train Epoch: 2 [51200/60000 (85%)]\tTrain Loss: 0.317965\n",
            "Train Epoch: 2 [57600/60000 (96%)]\tTrain Loss: 0.105608\n",
            "\n",
            "[EPOCH: 2], \tTest Loss: 0.1120, \tTest Accuracy: 96.62 % \n",
            "\n",
            "Train Epoch: 3 [0/60000 (0%)]\tTrain Loss: 0.398250\n",
            "Train Epoch: 3 [6400/60000 (11%)]\tTrain Loss: 0.071356\n",
            "Train Epoch: 3 [12800/60000 (21%)]\tTrain Loss: 0.225731\n",
            "Train Epoch: 3 [19200/60000 (32%)]\tTrain Loss: 0.222354\n",
            "Train Epoch: 3 [25600/60000 (43%)]\tTrain Loss: 0.299156\n",
            "Train Epoch: 3 [32000/60000 (53%)]\tTrain Loss: 0.154108\n",
            "Train Epoch: 3 [38400/60000 (64%)]\tTrain Loss: 0.118882\n",
            "Train Epoch: 3 [44800/60000 (75%)]\tTrain Loss: 0.161161\n",
            "Train Epoch: 3 [51200/60000 (85%)]\tTrain Loss: 0.086886\n",
            "Train Epoch: 3 [57600/60000 (96%)]\tTrain Loss: 0.085481\n",
            "\n",
            "[EPOCH: 3], \tTest Loss: 0.0970, \tTest Accuracy: 96.90 % \n",
            "\n",
            "Train Epoch: 4 [0/60000 (0%)]\tTrain Loss: 0.259391\n",
            "Train Epoch: 4 [6400/60000 (11%)]\tTrain Loss: 0.220535\n",
            "Train Epoch: 4 [12800/60000 (21%)]\tTrain Loss: 0.084835\n",
            "Train Epoch: 4 [19200/60000 (32%)]\tTrain Loss: 0.224616\n",
            "Train Epoch: 4 [25600/60000 (43%)]\tTrain Loss: 0.110541\n",
            "Train Epoch: 4 [32000/60000 (53%)]\tTrain Loss: 0.288306\n",
            "Train Epoch: 4 [38400/60000 (64%)]\tTrain Loss: 0.068254\n",
            "Train Epoch: 4 [44800/60000 (75%)]\tTrain Loss: 0.120326\n",
            "Train Epoch: 4 [51200/60000 (85%)]\tTrain Loss: 0.468463\n",
            "Train Epoch: 4 [57600/60000 (96%)]\tTrain Loss: 0.148897\n",
            "\n",
            "[EPOCH: 4], \tTest Loss: 0.0859, \tTest Accuracy: 97.37 % \n",
            "\n",
            "Train Epoch: 5 [0/60000 (0%)]\tTrain Loss: 0.102085\n",
            "Train Epoch: 5 [6400/60000 (11%)]\tTrain Loss: 0.168475\n",
            "Train Epoch: 5 [12800/60000 (21%)]\tTrain Loss: 0.141379\n",
            "Train Epoch: 5 [19200/60000 (32%)]\tTrain Loss: 0.118286\n",
            "Train Epoch: 5 [25600/60000 (43%)]\tTrain Loss: 0.073006\n",
            "Train Epoch: 5 [32000/60000 (53%)]\tTrain Loss: 0.163958\n",
            "Train Epoch: 5 [38400/60000 (64%)]\tTrain Loss: 0.218148\n",
            "Train Epoch: 5 [44800/60000 (75%)]\tTrain Loss: 0.390795\n",
            "Train Epoch: 5 [51200/60000 (85%)]\tTrain Loss: 0.476599\n",
            "Train Epoch: 5 [57600/60000 (96%)]\tTrain Loss: 0.059526\n",
            "\n",
            "[EPOCH: 5], \tTest Loss: 0.0799, \tTest Accuracy: 97.61 % \n",
            "\n",
            "Train Epoch: 6 [0/60000 (0%)]\tTrain Loss: 0.119065\n",
            "Train Epoch: 6 [6400/60000 (11%)]\tTrain Loss: 0.138967\n",
            "Train Epoch: 6 [12800/60000 (21%)]\tTrain Loss: 0.087090\n",
            "Train Epoch: 6 [19200/60000 (32%)]\tTrain Loss: 0.078568\n",
            "Train Epoch: 6 [25600/60000 (43%)]\tTrain Loss: 0.092914\n",
            "Train Epoch: 6 [32000/60000 (53%)]\tTrain Loss: 0.077961\n",
            "Train Epoch: 6 [38400/60000 (64%)]\tTrain Loss: 0.131087\n",
            "Train Epoch: 6 [44800/60000 (75%)]\tTrain Loss: 0.088443\n",
            "Train Epoch: 6 [51200/60000 (85%)]\tTrain Loss: 0.141716\n",
            "Train Epoch: 6 [57600/60000 (96%)]\tTrain Loss: 0.062066\n",
            "\n",
            "[EPOCH: 6], \tTest Loss: 0.0772, \tTest Accuracy: 97.62 % \n",
            "\n",
            "Train Epoch: 7 [0/60000 (0%)]\tTrain Loss: 0.078769\n",
            "Train Epoch: 7 [6400/60000 (11%)]\tTrain Loss: 0.042452\n",
            "Train Epoch: 7 [12800/60000 (21%)]\tTrain Loss: 0.060046\n",
            "Train Epoch: 7 [19200/60000 (32%)]\tTrain Loss: 0.072549\n",
            "Train Epoch: 7 [25600/60000 (43%)]\tTrain Loss: 0.038254\n",
            "Train Epoch: 7 [32000/60000 (53%)]\tTrain Loss: 0.205339\n",
            "Train Epoch: 7 [38400/60000 (64%)]\tTrain Loss: 0.121607\n",
            "Train Epoch: 7 [44800/60000 (75%)]\tTrain Loss: 0.203731\n",
            "Train Epoch: 7 [51200/60000 (85%)]\tTrain Loss: 0.131978\n",
            "Train Epoch: 7 [57600/60000 (96%)]\tTrain Loss: 0.163268\n",
            "\n",
            "[EPOCH: 7], \tTest Loss: 0.0723, \tTest Accuracy: 97.77 % \n",
            "\n",
            "Train Epoch: 8 [0/60000 (0%)]\tTrain Loss: 0.073366\n",
            "Train Epoch: 8 [6400/60000 (11%)]\tTrain Loss: 0.038600\n",
            "Train Epoch: 8 [12800/60000 (21%)]\tTrain Loss: 0.253343\n",
            "Train Epoch: 8 [19200/60000 (32%)]\tTrain Loss: 0.088564\n",
            "Train Epoch: 8 [25600/60000 (43%)]\tTrain Loss: 0.442423\n",
            "Train Epoch: 8 [32000/60000 (53%)]\tTrain Loss: 0.418149\n",
            "Train Epoch: 8 [38400/60000 (64%)]\tTrain Loss: 0.134290\n",
            "Train Epoch: 8 [44800/60000 (75%)]\tTrain Loss: 0.172049\n",
            "Train Epoch: 8 [51200/60000 (85%)]\tTrain Loss: 0.452969\n",
            "Train Epoch: 8 [57600/60000 (96%)]\tTrain Loss: 0.125385\n",
            "\n",
            "[EPOCH: 8], \tTest Loss: 0.0686, \tTest Accuracy: 97.92 % \n",
            "\n",
            "Train Epoch: 9 [0/60000 (0%)]\tTrain Loss: 0.156405\n",
            "Train Epoch: 9 [6400/60000 (11%)]\tTrain Loss: 0.204805\n",
            "Train Epoch: 9 [12800/60000 (21%)]\tTrain Loss: 0.244407\n",
            "Train Epoch: 9 [19200/60000 (32%)]\tTrain Loss: 0.042981\n",
            "Train Epoch: 9 [25600/60000 (43%)]\tTrain Loss: 0.062392\n",
            "Train Epoch: 9 [32000/60000 (53%)]\tTrain Loss: 0.214735\n",
            "Train Epoch: 9 [38400/60000 (64%)]\tTrain Loss: 0.026922\n",
            "Train Epoch: 9 [44800/60000 (75%)]\tTrain Loss: 0.240605\n",
            "Train Epoch: 9 [51200/60000 (85%)]\tTrain Loss: 0.211976\n",
            "Train Epoch: 9 [57600/60000 (96%)]\tTrain Loss: 0.182050\n",
            "\n",
            "[EPOCH: 9], \tTest Loss: 0.0672, \tTest Accuracy: 97.81 % \n",
            "\n",
            "Train Epoch: 10 [0/60000 (0%)]\tTrain Loss: 0.165349\n",
            "Train Epoch: 10 [6400/60000 (11%)]\tTrain Loss: 0.028427\n",
            "Train Epoch: 10 [12800/60000 (21%)]\tTrain Loss: 0.133490\n",
            "Train Epoch: 10 [19200/60000 (32%)]\tTrain Loss: 0.044778\n",
            "Train Epoch: 10 [25600/60000 (43%)]\tTrain Loss: 0.142183\n",
            "Train Epoch: 10 [32000/60000 (53%)]\tTrain Loss: 0.118831\n",
            "Train Epoch: 10 [38400/60000 (64%)]\tTrain Loss: 0.048538\n",
            "Train Epoch: 10 [44800/60000 (75%)]\tTrain Loss: 0.220887\n",
            "Train Epoch: 10 [51200/60000 (85%)]\tTrain Loss: 0.137338\n",
            "Train Epoch: 10 [57600/60000 (96%)]\tTrain Loss: 0.198886\n",
            "\n",
            "[EPOCH: 10], \tTest Loss: 0.0632, \tTest Accuracy: 98.05 % \n",
            "\n"
          ]
        }
      ]
    },
    {
      "cell_type": "markdown",
      "metadata": {
        "id": "Io2DbdQb6eaJ"
      },
      "source": [
        "# with Dropout + ReLu"
      ]
    },
    {
      "cell_type": "code",
      "metadata": {
        "id": "wgi0XzWS6eaS"
      },
      "source": [
        "class Net(nn.Module):\n",
        "    def __init__(self):\n",
        "        super(Net, self).__init__()\n",
        "        self.fc1 = nn.Linear(28 * 28, 512)\n",
        "        self.fc2 = nn.Linear(512, 256)\n",
        "        self.fc3 = nn.Linear(256, 10)\n",
        "        self.dropout_prob = 0.5\n",
        "\n",
        "    def forward(self, x):\n",
        "        x = x.view(-1, 28 * 28)\n",
        "        x = self.fc1(x)\n",
        "        x = F.relu(x)\n",
        "        x = F.dropout(x, training=self.training, p = self.dropout_prob)\n",
        "        x = self.fc2(x)\n",
        "        x = F.relu(x)\n",
        "        x = F.dropout(x, training=self.training, p = self.dropout_prob)\n",
        "        x = self.fc3(x)\n",
        "        x = F.log_softmax(x, dim = 1)\n",
        "        return x"
      ],
      "execution_count": 32,
      "outputs": []
    },
    {
      "cell_type": "code",
      "metadata": {
        "colab": {
          "base_uri": "https://localhost:8080/"
        },
        "id": "8cK0lPF66eaT",
        "outputId": "8016b9fb-d571-4be5-f6b2-41ec790321f2"
      },
      "source": [
        "model = Net().to(DEVICE)\n",
        "optimizer = torch.optim.SGD(model.parameters(), lr = 0.01, momentum = 0.5)\n",
        "criterion = nn.CrossEntropyLoss()\n",
        "\n",
        "print(model)"
      ],
      "execution_count": 33,
      "outputs": [
        {
          "output_type": "stream",
          "name": "stdout",
          "text": [
            "Net(\n",
            "  (fc1): Linear(in_features=784, out_features=512, bias=True)\n",
            "  (fc2): Linear(in_features=512, out_features=256, bias=True)\n",
            "  (fc3): Linear(in_features=256, out_features=10, bias=True)\n",
            ")\n"
          ]
        }
      ]
    },
    {
      "cell_type": "code",
      "metadata": {
        "id": "gW5p9Af36eaT"
      },
      "source": [
        "def train(model, train_loader, optimizer, log_interval):\n",
        "    model.train()\n",
        "    for batch_idx, (image, label) in enumerate(train_loader):\n",
        "        image = image.to(DEVICE)\n",
        "        label = label.to(DEVICE)\n",
        "        optimizer.zero_grad()\n",
        "        output = model(image)\n",
        "        loss = criterion(output, label)\n",
        "        loss.backward()\n",
        "        optimizer.step()\n",
        "\n",
        "        if batch_idx % log_interval == 0:\n",
        "            print(\"Train Epoch: {} [{}/{} ({:.0f}%)]\\tTrain Loss: {:.6f}\".format(\n",
        "                epoch, batch_idx * len(image), \n",
        "                len(train_loader.dataset), 100. * batch_idx / len(train_loader), \n",
        "                loss.item()))"
      ],
      "execution_count": 34,
      "outputs": []
    },
    {
      "cell_type": "code",
      "metadata": {
        "id": "aD0qr0UQ6eaT"
      },
      "source": [
        "def evaluate(model, test_loader):\n",
        "    model.eval()\n",
        "    test_loss = 0\n",
        "    correct = 0\n",
        "\n",
        "    with torch.no_grad():\n",
        "        for image, label in test_loader:\n",
        "            image = image.to(DEVICE)\n",
        "            label = label.to(DEVICE)\n",
        "            output = model(image)\n",
        "            test_loss += criterion(output, label).item()\n",
        "            prediction = output.max(1, keepdim = True)[1]\n",
        "            correct += prediction.eq(label.view_as(prediction)).sum().item()\n",
        "    \n",
        "    test_loss /= (len(test_loader.dataset) / BATCH_SIZE)\n",
        "    test_accuracy = 100. * correct / len(test_loader.dataset)\n",
        "    return test_loss, test_accuracy"
      ],
      "execution_count": 35,
      "outputs": []
    },
    {
      "cell_type": "code",
      "metadata": {
        "colab": {
          "base_uri": "https://localhost:8080/",
          "height": 426
        },
        "id": "GuBvWH3i6eaT",
        "outputId": "100c20b5-d9c2-49a6-a33d-1c21e8ebd5ae"
      },
      "source": [
        "#@title\n",
        "for epoch in range(1, EPOCHS + 1):\n",
        "    train(model, train_loader, optimizer, log_interval = 200)\n",
        "    test_loss, test_accuracy = evaluate(model, test_loader)\n",
        "    print(\"\\n[EPOCH: {}], \\tTest Loss: {:.4f}, \\tTest Accuracy: {:.2f} % \\n\".format(\n",
        "        epoch, test_loss, test_accuracy))"
      ],
      "execution_count": 36,
      "outputs": [
        {
          "output_type": "stream",
          "name": "stdout",
          "text": [
            "Train Epoch: 1 [0/60000 (0%)]\tTrain Loss: 2.328500\n",
            "Train Epoch: 1 [6400/60000 (11%)]\tTrain Loss: 2.044343\n"
          ]
        },
        {
          "output_type": "error",
          "ename": "KeyboardInterrupt",
          "evalue": "ignored",
          "traceback": [
            "\u001b[0;31m---------------------------------------------------------------------------\u001b[0m",
            "\u001b[0;31mKeyboardInterrupt\u001b[0m                         Traceback (most recent call last)",
            "\u001b[0;32m<ipython-input-36-ef240ef05655>\u001b[0m in \u001b[0;36m<module>\u001b[0;34m()\u001b[0m\n\u001b[1;32m      1\u001b[0m \u001b[0;31m#@title\u001b[0m\u001b[0;34m\u001b[0m\u001b[0;34m\u001b[0m\u001b[0;34m\u001b[0m\u001b[0m\n\u001b[1;32m      2\u001b[0m \u001b[0;32mfor\u001b[0m \u001b[0mepoch\u001b[0m \u001b[0;32min\u001b[0m \u001b[0mrange\u001b[0m\u001b[0;34m(\u001b[0m\u001b[0;36m1\u001b[0m\u001b[0;34m,\u001b[0m \u001b[0mEPOCHS\u001b[0m \u001b[0;34m+\u001b[0m \u001b[0;36m1\u001b[0m\u001b[0;34m)\u001b[0m\u001b[0;34m:\u001b[0m\u001b[0;34m\u001b[0m\u001b[0;34m\u001b[0m\u001b[0m\n\u001b[0;32m----> 3\u001b[0;31m     \u001b[0mtrain\u001b[0m\u001b[0;34m(\u001b[0m\u001b[0mmodel\u001b[0m\u001b[0;34m,\u001b[0m \u001b[0mtrain_loader\u001b[0m\u001b[0;34m,\u001b[0m \u001b[0moptimizer\u001b[0m\u001b[0;34m,\u001b[0m \u001b[0mlog_interval\u001b[0m \u001b[0;34m=\u001b[0m \u001b[0;36m200\u001b[0m\u001b[0;34m)\u001b[0m\u001b[0;34m\u001b[0m\u001b[0;34m\u001b[0m\u001b[0m\n\u001b[0m\u001b[1;32m      4\u001b[0m     \u001b[0mtest_loss\u001b[0m\u001b[0;34m,\u001b[0m \u001b[0mtest_accuracy\u001b[0m \u001b[0;34m=\u001b[0m \u001b[0mevaluate\u001b[0m\u001b[0;34m(\u001b[0m\u001b[0mmodel\u001b[0m\u001b[0;34m,\u001b[0m \u001b[0mtest_loader\u001b[0m\u001b[0;34m)\u001b[0m\u001b[0;34m\u001b[0m\u001b[0;34m\u001b[0m\u001b[0m\n\u001b[1;32m      5\u001b[0m     print(\"\\n[EPOCH: {}], \\tTest Loss: {:.4f}, \\tTest Accuracy: {:.2f} % \\n\".format(\n",
            "\u001b[0;32m<ipython-input-34-be98d565d6de>\u001b[0m in \u001b[0;36mtrain\u001b[0;34m(model, train_loader, optimizer, log_interval)\u001b[0m\n\u001b[1;32m      7\u001b[0m         \u001b[0moutput\u001b[0m \u001b[0;34m=\u001b[0m \u001b[0mmodel\u001b[0m\u001b[0;34m(\u001b[0m\u001b[0mimage\u001b[0m\u001b[0;34m)\u001b[0m\u001b[0;34m\u001b[0m\u001b[0;34m\u001b[0m\u001b[0m\n\u001b[1;32m      8\u001b[0m         \u001b[0mloss\u001b[0m \u001b[0;34m=\u001b[0m \u001b[0mcriterion\u001b[0m\u001b[0;34m(\u001b[0m\u001b[0moutput\u001b[0m\u001b[0;34m,\u001b[0m \u001b[0mlabel\u001b[0m\u001b[0;34m)\u001b[0m\u001b[0;34m\u001b[0m\u001b[0;34m\u001b[0m\u001b[0m\n\u001b[0;32m----> 9\u001b[0;31m         \u001b[0mloss\u001b[0m\u001b[0;34m.\u001b[0m\u001b[0mbackward\u001b[0m\u001b[0;34m(\u001b[0m\u001b[0;34m)\u001b[0m\u001b[0;34m\u001b[0m\u001b[0;34m\u001b[0m\u001b[0m\n\u001b[0m\u001b[1;32m     10\u001b[0m         \u001b[0moptimizer\u001b[0m\u001b[0;34m.\u001b[0m\u001b[0mstep\u001b[0m\u001b[0;34m(\u001b[0m\u001b[0;34m)\u001b[0m\u001b[0;34m\u001b[0m\u001b[0;34m\u001b[0m\u001b[0m\n\u001b[1;32m     11\u001b[0m \u001b[0;34m\u001b[0m\u001b[0m\n",
            "\u001b[0;32m/usr/local/lib/python3.7/dist-packages/torch/_tensor.py\u001b[0m in \u001b[0;36mbackward\u001b[0;34m(self, gradient, retain_graph, create_graph, inputs)\u001b[0m\n\u001b[1;32m    253\u001b[0m                 \u001b[0mcreate_graph\u001b[0m\u001b[0;34m=\u001b[0m\u001b[0mcreate_graph\u001b[0m\u001b[0;34m,\u001b[0m\u001b[0;34m\u001b[0m\u001b[0;34m\u001b[0m\u001b[0m\n\u001b[1;32m    254\u001b[0m                 inputs=inputs)\n\u001b[0;32m--> 255\u001b[0;31m         \u001b[0mtorch\u001b[0m\u001b[0;34m.\u001b[0m\u001b[0mautograd\u001b[0m\u001b[0;34m.\u001b[0m\u001b[0mbackward\u001b[0m\u001b[0;34m(\u001b[0m\u001b[0mself\u001b[0m\u001b[0;34m,\u001b[0m \u001b[0mgradient\u001b[0m\u001b[0;34m,\u001b[0m \u001b[0mretain_graph\u001b[0m\u001b[0;34m,\u001b[0m \u001b[0mcreate_graph\u001b[0m\u001b[0;34m,\u001b[0m \u001b[0minputs\u001b[0m\u001b[0;34m=\u001b[0m\u001b[0minputs\u001b[0m\u001b[0;34m)\u001b[0m\u001b[0;34m\u001b[0m\u001b[0;34m\u001b[0m\u001b[0m\n\u001b[0m\u001b[1;32m    256\u001b[0m \u001b[0;34m\u001b[0m\u001b[0m\n\u001b[1;32m    257\u001b[0m     \u001b[0;32mdef\u001b[0m \u001b[0mregister_hook\u001b[0m\u001b[0;34m(\u001b[0m\u001b[0mself\u001b[0m\u001b[0;34m,\u001b[0m \u001b[0mhook\u001b[0m\u001b[0;34m)\u001b[0m\u001b[0;34m:\u001b[0m\u001b[0;34m\u001b[0m\u001b[0;34m\u001b[0m\u001b[0m\n",
            "\u001b[0;32m/usr/local/lib/python3.7/dist-packages/torch/autograd/__init__.py\u001b[0m in \u001b[0;36mbackward\u001b[0;34m(tensors, grad_tensors, retain_graph, create_graph, grad_variables, inputs)\u001b[0m\n\u001b[1;32m    147\u001b[0m     Variable._execution_engine.run_backward(\n\u001b[1;32m    148\u001b[0m         \u001b[0mtensors\u001b[0m\u001b[0;34m,\u001b[0m \u001b[0mgrad_tensors_\u001b[0m\u001b[0;34m,\u001b[0m \u001b[0mretain_graph\u001b[0m\u001b[0;34m,\u001b[0m \u001b[0mcreate_graph\u001b[0m\u001b[0;34m,\u001b[0m \u001b[0minputs\u001b[0m\u001b[0;34m,\u001b[0m\u001b[0;34m\u001b[0m\u001b[0;34m\u001b[0m\u001b[0m\n\u001b[0;32m--> 149\u001b[0;31m         allow_unreachable=True, accumulate_grad=True)  # allow_unreachable flag\n\u001b[0m\u001b[1;32m    150\u001b[0m \u001b[0;34m\u001b[0m\u001b[0m\n\u001b[1;32m    151\u001b[0m \u001b[0;34m\u001b[0m\u001b[0m\n",
            "\u001b[0;31mKeyboardInterrupt\u001b[0m: "
          ]
        }
      ]
    },
    {
      "cell_type": "markdown",
      "metadata": {
        "id": "HlYt9axU6vP5"
      },
      "source": [
        "# with Dropout + ReLu + BN\n",
        "\n"
      ]
    },
    {
      "cell_type": "code",
      "metadata": {
        "id": "urRHr5mb6vQB"
      },
      "source": [
        "class Net(nn.Module):\n",
        "    def __init__(self):\n",
        "        super(Net, self).__init__()\n",
        "        self.fc1 = nn.Linear(28 * 28, 512)\n",
        "        self.fc2 = nn.Linear(512, 256)\n",
        "        self.fc3 = nn.Linear(256, 10)\n",
        "        self.dropout_prob = 0.5\n",
        "        self.batch_norm1 = nn.BatchNorm1d(512)\n",
        "        self.batch_norm2 = nn.BatchNorm1d(256)\n",
        "\n",
        "    def forward(self, x):\n",
        "        x = x.view(-1, 28 * 28)\n",
        "        x = self.fc1(x)\n",
        "        x = self.batch_norm1(x)\n",
        "        x = F.relu(x)\n",
        "        x = F.dropout(x, training=self.training, p = self.dropout_prob)\n",
        "        x = self.fc2(x)\n",
        "        x = self.batch_norm2(x)\n",
        "        x = F.relu(x)\n",
        "        x = F.dropout(x, training=self.training, p = self.dropout_prob)\n",
        "        x = self.fc3(x)\n",
        "        x = F.log_softmax(x, dim = 1)\n",
        "        return x"
      ],
      "execution_count": 10,
      "outputs": []
    },
    {
      "cell_type": "code",
      "metadata": {
        "colab": {
          "base_uri": "https://localhost:8080/"
        },
        "id": "t7plJmT36vQC",
        "outputId": "75a92391-51e5-454d-dc36-023152db7aab"
      },
      "source": [
        "model = Net().to(DEVICE)\n",
        "optimizer = torch.optim.SGD(model.parameters(), lr = 0.01, momentum = 0.5)\n",
        "criterion = nn.CrossEntropyLoss()\n",
        "\n",
        "print(model)"
      ],
      "execution_count": 11,
      "outputs": [
        {
          "output_type": "stream",
          "name": "stdout",
          "text": [
            "Net(\n",
            "  (fc1): Linear(in_features=784, out_features=512, bias=True)\n",
            "  (fc2): Linear(in_features=512, out_features=256, bias=True)\n",
            "  (fc3): Linear(in_features=256, out_features=10, bias=True)\n",
            "  (batch_norm1): BatchNorm1d(512, eps=1e-05, momentum=0.1, affine=True, track_running_stats=True)\n",
            "  (batch_norm2): BatchNorm1d(256, eps=1e-05, momentum=0.1, affine=True, track_running_stats=True)\n",
            ")\n"
          ]
        }
      ]
    },
    {
      "cell_type": "code",
      "metadata": {
        "id": "xcvCL5fM6vQC"
      },
      "source": [
        "def train(model, train_loader, optimizer, log_interval):\n",
        "    model.train()\n",
        "    for batch_idx, (image, label) in enumerate(train_loader):\n",
        "        image = image.to(DEVICE)\n",
        "        label = label.to(DEVICE)\n",
        "        optimizer.zero_grad()\n",
        "        output = model(image)\n",
        "        loss = criterion(output, label)\n",
        "        loss.backward()\n",
        "        optimizer.step()\n",
        "\n",
        "        if batch_idx % log_interval == 0:\n",
        "            print(\"Train Epoch: {} [{}/{} ({:.0f}%)]\\tTrain Loss: {:.6f}\".format(\n",
        "                epoch, batch_idx * len(image), \n",
        "                len(train_loader.dataset), 100. * batch_idx / len(train_loader), \n",
        "                loss.item()))"
      ],
      "execution_count": 12,
      "outputs": []
    },
    {
      "cell_type": "code",
      "metadata": {
        "id": "d32uVNHh6vQC"
      },
      "source": [
        "def evaluate(model, test_loader):\n",
        "    model.eval()\n",
        "    test_loss = 0\n",
        "    correct = 0\n",
        "\n",
        "    with torch.no_grad():\n",
        "        for image, label in test_loader:\n",
        "            image = image.to(DEVICE)\n",
        "            label = label.to(DEVICE)\n",
        "            output = model(image)\n",
        "            test_loss += criterion(output, label).item()\n",
        "            prediction = output.max(1, keepdim = True)[1]\n",
        "            correct += prediction.eq(label.view_as(prediction)).sum().item()\n",
        "    \n",
        "    test_loss /= (len(test_loader.dataset) / BATCH_SIZE)\n",
        "    test_accuracy = 100. * correct / len(test_loader.dataset)\n",
        "    return test_loss, test_accuracy"
      ],
      "execution_count": 13,
      "outputs": []
    },
    {
      "cell_type": "code",
      "metadata": {
        "colab": {
          "base_uri": "https://localhost:8080/"
        },
        "id": "-XC-YF7F6vQC",
        "outputId": "88affaf4-7191-4adb-825f-b8687457cc9d"
      },
      "source": [
        "#@title\n",
        "for epoch in range(1, EPOCHS + 1):\n",
        "    train(model, train_loader, optimizer, log_interval = 200)\n",
        "    test_loss, test_accuracy = evaluate(model, test_loader)\n",
        "    print(\"\\n[EPOCH: {}], \\tTest Loss: {:.4f}, \\tTest Accuracy: {:.2f} % \\n\".format(\n",
        "        epoch, test_loss, test_accuracy))"
      ],
      "execution_count": 14,
      "outputs": [
        {
          "output_type": "stream",
          "name": "stdout",
          "text": [
            "Train Epoch: 1 [0/60000 (0%)]\tTrain Loss: 2.156394\n",
            "Train Epoch: 1 [6400/60000 (11%)]\tTrain Loss: 0.473387\n",
            "Train Epoch: 1 [12800/60000 (21%)]\tTrain Loss: 0.401485\n",
            "Train Epoch: 1 [19200/60000 (32%)]\tTrain Loss: 0.599920\n",
            "Train Epoch: 1 [25600/60000 (43%)]\tTrain Loss: 0.562107\n",
            "Train Epoch: 1 [32000/60000 (53%)]\tTrain Loss: 0.418843\n",
            "Train Epoch: 1 [38400/60000 (64%)]\tTrain Loss: 0.134657\n",
            "Train Epoch: 1 [44800/60000 (75%)]\tTrain Loss: 0.244492\n",
            "Train Epoch: 1 [51200/60000 (85%)]\tTrain Loss: 0.338070\n",
            "Train Epoch: 1 [57600/60000 (96%)]\tTrain Loss: 0.423866\n",
            "\n",
            "[EPOCH: 1], \tTest Loss: 0.1528, \tTest Accuracy: 95.36 % \n",
            "\n",
            "Train Epoch: 2 [0/60000 (0%)]\tTrain Loss: 0.150224\n",
            "Train Epoch: 2 [6400/60000 (11%)]\tTrain Loss: 0.185134\n",
            "Train Epoch: 2 [12800/60000 (21%)]\tTrain Loss: 0.512642\n",
            "Train Epoch: 2 [19200/60000 (32%)]\tTrain Loss: 0.216087\n",
            "Train Epoch: 2 [25600/60000 (43%)]\tTrain Loss: 0.358434\n",
            "Train Epoch: 2 [32000/60000 (53%)]\tTrain Loss: 0.316974\n",
            "Train Epoch: 2 [38400/60000 (64%)]\tTrain Loss: 0.276730\n",
            "Train Epoch: 2 [44800/60000 (75%)]\tTrain Loss: 0.222777\n",
            "Train Epoch: 2 [51200/60000 (85%)]\tTrain Loss: 0.453492\n",
            "Train Epoch: 2 [57600/60000 (96%)]\tTrain Loss: 0.329371\n",
            "\n",
            "[EPOCH: 2], \tTest Loss: 0.1152, \tTest Accuracy: 96.44 % \n",
            "\n",
            "Train Epoch: 3 [0/60000 (0%)]\tTrain Loss: 0.067687\n",
            "Train Epoch: 3 [6400/60000 (11%)]\tTrain Loss: 0.126027\n",
            "Train Epoch: 3 [12800/60000 (21%)]\tTrain Loss: 0.137018\n",
            "Train Epoch: 3 [19200/60000 (32%)]\tTrain Loss: 0.181112\n",
            "Train Epoch: 3 [25600/60000 (43%)]\tTrain Loss: 0.072788\n",
            "Train Epoch: 3 [32000/60000 (53%)]\tTrain Loss: 0.017463\n",
            "Train Epoch: 3 [38400/60000 (64%)]\tTrain Loss: 0.159955\n",
            "Train Epoch: 3 [44800/60000 (75%)]\tTrain Loss: 0.201971\n",
            "Train Epoch: 3 [51200/60000 (85%)]\tTrain Loss: 0.301329\n",
            "Train Epoch: 3 [57600/60000 (96%)]\tTrain Loss: 0.110011\n",
            "\n",
            "[EPOCH: 3], \tTest Loss: 0.0960, \tTest Accuracy: 96.98 % \n",
            "\n",
            "Train Epoch: 4 [0/60000 (0%)]\tTrain Loss: 0.225831\n",
            "Train Epoch: 4 [6400/60000 (11%)]\tTrain Loss: 0.219085\n",
            "Train Epoch: 4 [12800/60000 (21%)]\tTrain Loss: 0.107300\n",
            "Train Epoch: 4 [19200/60000 (32%)]\tTrain Loss: 0.256421\n",
            "Train Epoch: 4 [25600/60000 (43%)]\tTrain Loss: 0.085986\n",
            "Train Epoch: 4 [32000/60000 (53%)]\tTrain Loss: 0.121963\n",
            "Train Epoch: 4 [38400/60000 (64%)]\tTrain Loss: 0.048826\n",
            "Train Epoch: 4 [44800/60000 (75%)]\tTrain Loss: 0.180026\n",
            "Train Epoch: 4 [51200/60000 (85%)]\tTrain Loss: 0.202663\n",
            "Train Epoch: 4 [57600/60000 (96%)]\tTrain Loss: 0.080787\n",
            "\n",
            "[EPOCH: 4], \tTest Loss: 0.0860, \tTest Accuracy: 97.24 % \n",
            "\n",
            "Train Epoch: 5 [0/60000 (0%)]\tTrain Loss: 0.249306\n",
            "Train Epoch: 5 [6400/60000 (11%)]\tTrain Loss: 0.122233\n",
            "Train Epoch: 5 [12800/60000 (21%)]\tTrain Loss: 0.044444\n",
            "Train Epoch: 5 [19200/60000 (32%)]\tTrain Loss: 0.121562\n",
            "Train Epoch: 5 [25600/60000 (43%)]\tTrain Loss: 0.055313\n",
            "Train Epoch: 5 [32000/60000 (53%)]\tTrain Loss: 0.138908\n",
            "Train Epoch: 5 [38400/60000 (64%)]\tTrain Loss: 0.179644\n",
            "Train Epoch: 5 [44800/60000 (75%)]\tTrain Loss: 0.182150\n",
            "Train Epoch: 5 [51200/60000 (85%)]\tTrain Loss: 0.266652\n",
            "Train Epoch: 5 [57600/60000 (96%)]\tTrain Loss: 0.042528\n",
            "\n",
            "[EPOCH: 5], \tTest Loss: 0.0825, \tTest Accuracy: 97.51 % \n",
            "\n",
            "Train Epoch: 6 [0/60000 (0%)]\tTrain Loss: 0.095590\n",
            "Train Epoch: 6 [6400/60000 (11%)]\tTrain Loss: 0.060809\n",
            "Train Epoch: 6 [12800/60000 (21%)]\tTrain Loss: 0.085036\n",
            "Train Epoch: 6 [19200/60000 (32%)]\tTrain Loss: 0.060877\n",
            "Train Epoch: 6 [25600/60000 (43%)]\tTrain Loss: 0.371727\n",
            "Train Epoch: 6 [32000/60000 (53%)]\tTrain Loss: 0.051134\n",
            "Train Epoch: 6 [38400/60000 (64%)]\tTrain Loss: 0.095055\n",
            "Train Epoch: 6 [44800/60000 (75%)]\tTrain Loss: 0.077974\n",
            "Train Epoch: 6 [51200/60000 (85%)]\tTrain Loss: 0.091122\n",
            "Train Epoch: 6 [57600/60000 (96%)]\tTrain Loss: 0.108170\n",
            "\n",
            "[EPOCH: 6], \tTest Loss: 0.0756, \tTest Accuracy: 97.70 % \n",
            "\n",
            "Train Epoch: 7 [0/60000 (0%)]\tTrain Loss: 0.278063\n",
            "Train Epoch: 7 [6400/60000 (11%)]\tTrain Loss: 0.086651\n",
            "Train Epoch: 7 [12800/60000 (21%)]\tTrain Loss: 0.046364\n",
            "Train Epoch: 7 [19200/60000 (32%)]\tTrain Loss: 0.026815\n",
            "Train Epoch: 7 [25600/60000 (43%)]\tTrain Loss: 0.030980\n",
            "Train Epoch: 7 [32000/60000 (53%)]\tTrain Loss: 0.081339\n",
            "Train Epoch: 7 [38400/60000 (64%)]\tTrain Loss: 0.180907\n",
            "Train Epoch: 7 [44800/60000 (75%)]\tTrain Loss: 0.138341\n",
            "Train Epoch: 7 [51200/60000 (85%)]\tTrain Loss: 0.462352\n",
            "Train Epoch: 7 [57600/60000 (96%)]\tTrain Loss: 0.269842\n",
            "\n",
            "[EPOCH: 7], \tTest Loss: 0.0695, \tTest Accuracy: 97.79 % \n",
            "\n",
            "Train Epoch: 8 [0/60000 (0%)]\tTrain Loss: 0.432051\n",
            "Train Epoch: 8 [6400/60000 (11%)]\tTrain Loss: 0.317082\n",
            "Train Epoch: 8 [12800/60000 (21%)]\tTrain Loss: 0.131527\n",
            "Train Epoch: 8 [19200/60000 (32%)]\tTrain Loss: 0.051730\n",
            "Train Epoch: 8 [25600/60000 (43%)]\tTrain Loss: 0.385593\n",
            "Train Epoch: 8 [32000/60000 (53%)]\tTrain Loss: 0.085756\n",
            "Train Epoch: 8 [38400/60000 (64%)]\tTrain Loss: 0.090439\n",
            "Train Epoch: 8 [44800/60000 (75%)]\tTrain Loss: 0.059655\n",
            "Train Epoch: 8 [51200/60000 (85%)]\tTrain Loss: 0.198155\n",
            "Train Epoch: 8 [57600/60000 (96%)]\tTrain Loss: 0.130809\n",
            "\n",
            "[EPOCH: 8], \tTest Loss: 0.0687, \tTest Accuracy: 97.97 % \n",
            "\n",
            "Train Epoch: 9 [0/60000 (0%)]\tTrain Loss: 0.097269\n",
            "Train Epoch: 9 [6400/60000 (11%)]\tTrain Loss: 0.012388\n",
            "Train Epoch: 9 [12800/60000 (21%)]\tTrain Loss: 0.097160\n",
            "Train Epoch: 9 [19200/60000 (32%)]\tTrain Loss: 0.181850\n",
            "Train Epoch: 9 [25600/60000 (43%)]\tTrain Loss: 0.269486\n",
            "Train Epoch: 9 [32000/60000 (53%)]\tTrain Loss: 0.178913\n",
            "Train Epoch: 9 [38400/60000 (64%)]\tTrain Loss: 0.209741\n",
            "Train Epoch: 9 [44800/60000 (75%)]\tTrain Loss: 0.101946\n",
            "Train Epoch: 9 [51200/60000 (85%)]\tTrain Loss: 0.210591\n",
            "Train Epoch: 9 [57600/60000 (96%)]\tTrain Loss: 0.082274\n",
            "\n",
            "[EPOCH: 9], \tTest Loss: 0.0707, \tTest Accuracy: 97.82 % \n",
            "\n",
            "Train Epoch: 10 [0/60000 (0%)]\tTrain Loss: 0.103778\n",
            "Train Epoch: 10 [6400/60000 (11%)]\tTrain Loss: 0.080663\n",
            "Train Epoch: 10 [12800/60000 (21%)]\tTrain Loss: 0.057741\n",
            "Train Epoch: 10 [19200/60000 (32%)]\tTrain Loss: 0.085216\n",
            "Train Epoch: 10 [25600/60000 (43%)]\tTrain Loss: 0.108206\n",
            "Train Epoch: 10 [32000/60000 (53%)]\tTrain Loss: 0.131859\n",
            "Train Epoch: 10 [38400/60000 (64%)]\tTrain Loss: 0.062804\n",
            "Train Epoch: 10 [44800/60000 (75%)]\tTrain Loss: 0.028275\n",
            "Train Epoch: 10 [51200/60000 (85%)]\tTrain Loss: 0.019557\n",
            "Train Epoch: 10 [57600/60000 (96%)]\tTrain Loss: 0.033441\n",
            "\n",
            "[EPOCH: 10], \tTest Loss: 0.0623, \tTest Accuracy: 98.00 % \n",
            "\n"
          ]
        }
      ]
    },
    {
      "cell_type": "markdown",
      "metadata": {
        "id": "z4YReVSr7hp_"
      },
      "source": [
        "# with Dropout + ReLu + BN + He\n",
        "\n"
      ]
    },
    {
      "cell_type": "code",
      "metadata": {
        "id": "rOmg6vEK7hqI"
      },
      "source": [
        "class Net(nn.Module):\n",
        "    def __init__(self):\n",
        "        super(Net, self).__init__()\n",
        "        self.fc1 = nn.Linear(28 * 28, 512)\n",
        "        self.fc2 = nn.Linear(512, 256)\n",
        "        self.fc3 = nn.Linear(256, 10)\n",
        "        self.dropout_prob = 0.5\n",
        "        self.batch_norm1 = nn.BatchNorm1d(512)\n",
        "        self.batch_norm2 = nn.BatchNorm1d(256)\n",
        "\n",
        "    def forward(self, x):\n",
        "        x = x.view(-1, 28 * 28)\n",
        "        x = self.fc1(x)\n",
        "        x = self.batch_norm1(x)\n",
        "        x = F.relu(x)\n",
        "        x = F.dropout(x, training=self.training, p = self.dropout_prob)\n",
        "        x = self.fc2(x)\n",
        "        x = self.batch_norm2(x)\n",
        "        x = F.relu(x)\n",
        "        x = F.dropout(x, training=self.training, p = self.dropout_prob)\n",
        "        x = self.fc3(x)\n",
        "        x = F.log_softmax(x, dim = 1)\n",
        "        return x"
      ],
      "execution_count": 15,
      "outputs": []
    },
    {
      "cell_type": "code",
      "metadata": {
        "colab": {
          "base_uri": "https://localhost:8080/"
        },
        "id": "l6VlFUAr7hqI",
        "outputId": "098e9bae-6878-4283-8738-1a4e842691f1"
      },
      "source": [
        "import torch.nn.init as init\n",
        "def weight_init(m):\n",
        "  if isinstance(m, nn.Linear):\n",
        "    init.kaiming_uniform_(m.weight.data)\n",
        "\n",
        "model = Net().to(DEVICE)\n",
        "model.apply(weight_init)\n",
        "optimizer = torch.optim.SGD(model.parameters(), lr = 0.01, momentum = 0.5)\n",
        "criterion = nn.CrossEntropyLoss()\n",
        "\n",
        "print(model)"
      ],
      "execution_count": 16,
      "outputs": [
        {
          "output_type": "stream",
          "name": "stdout",
          "text": [
            "Net(\n",
            "  (fc1): Linear(in_features=784, out_features=512, bias=True)\n",
            "  (fc2): Linear(in_features=512, out_features=256, bias=True)\n",
            "  (fc3): Linear(in_features=256, out_features=10, bias=True)\n",
            "  (batch_norm1): BatchNorm1d(512, eps=1e-05, momentum=0.1, affine=True, track_running_stats=True)\n",
            "  (batch_norm2): BatchNorm1d(256, eps=1e-05, momentum=0.1, affine=True, track_running_stats=True)\n",
            ")\n"
          ]
        }
      ]
    },
    {
      "cell_type": "code",
      "metadata": {
        "id": "0N4cWJjU7hqI"
      },
      "source": [
        "def train(model, train_loader, optimizer, log_interval):\n",
        "    model.train()\n",
        "    for batch_idx, (image, label) in enumerate(train_loader):\n",
        "        image = image.to(DEVICE)\n",
        "        label = label.to(DEVICE)\n",
        "        optimizer.zero_grad()\n",
        "        output = model(image)\n",
        "        loss = criterion(output, label)\n",
        "        loss.backward()\n",
        "        optimizer.step()\n",
        "\n",
        "        if batch_idx % log_interval == 0:\n",
        "            print(\"Train Epoch: {} [{}/{} ({:.0f}%)]\\tTrain Loss: {:.6f}\".format(\n",
        "                epoch, batch_idx * len(image), \n",
        "                len(train_loader.dataset), 100. * batch_idx / len(train_loader), \n",
        "                loss.item()))"
      ],
      "execution_count": null,
      "outputs": []
    },
    {
      "cell_type": "code",
      "metadata": {
        "id": "Ilbn1s8T7hqJ"
      },
      "source": [
        "def evaluate(model, test_loader):\n",
        "    model.eval()\n",
        "    test_loss = 0\n",
        "    correct = 0\n",
        "\n",
        "    with torch.no_grad():\n",
        "        for image, label in test_loader:\n",
        "            image = image.to(DEVICE)\n",
        "            label = label.to(DEVICE)\n",
        "            output = model(image)\n",
        "            test_loss += criterion(output, label).item()\n",
        "            prediction = output.max(1, keepdim = True)[1]\n",
        "            correct += prediction.eq(label.view_as(prediction)).sum().item()\n",
        "    \n",
        "    test_loss /= (len(test_loader.dataset) / BATCH_SIZE)\n",
        "    test_accuracy = 100. * correct / len(test_loader.dataset)\n",
        "    return test_loss, test_accuracy"
      ],
      "execution_count": null,
      "outputs": []
    },
    {
      "cell_type": "code",
      "metadata": {
        "colab": {
          "base_uri": "https://localhost:8080/"
        },
        "id": "d3TuECDv7hqJ",
        "outputId": "f9df27f8-3c32-4bd1-b1f0-a6f8178e43c5"
      },
      "source": [
        "#@title\n",
        "for epoch in range(1, EPOCHS + 1):\n",
        "    train(model, train_loader, optimizer, log_interval = 200)\n",
        "    test_loss, test_accuracy = evaluate(model, test_loader)\n",
        "    print(\"\\n[EPOCH: {}], \\tTest Loss: {:.4f}, \\tTest Accuracy: {:.2f} % \\n\".format(\n",
        "        epoch, test_loss, test_accuracy))"
      ],
      "execution_count": null,
      "outputs": [
        {
          "output_type": "stream",
          "name": "stdout",
          "text": [
            "Train Epoch: 1 [0/60000 (0%)]\tTrain Loss: 2.434333\n",
            "Train Epoch: 1 [6400/60000 (11%)]\tTrain Loss: 0.414395\n",
            "Train Epoch: 1 [12800/60000 (21%)]\tTrain Loss: 0.277908\n",
            "Train Epoch: 1 [19200/60000 (32%)]\tTrain Loss: 0.353316\n",
            "Train Epoch: 1 [25600/60000 (43%)]\tTrain Loss: 0.542946\n",
            "Train Epoch: 1 [32000/60000 (53%)]\tTrain Loss: 0.625217\n",
            "Train Epoch: 1 [38400/60000 (64%)]\tTrain Loss: 0.342085\n",
            "Train Epoch: 1 [44800/60000 (75%)]\tTrain Loss: 0.314643\n",
            "Train Epoch: 1 [51200/60000 (85%)]\tTrain Loss: 0.160924\n",
            "Train Epoch: 1 [57600/60000 (96%)]\tTrain Loss: 0.362432\n",
            "\n",
            "[EPOCH: 1], \tTest Loss: 0.1492, \tTest Accuracy: 95.60 % \n",
            "\n",
            "Train Epoch: 2 [0/60000 (0%)]\tTrain Loss: 0.171501\n",
            "Train Epoch: 2 [6400/60000 (11%)]\tTrain Loss: 0.228426\n",
            "Train Epoch: 2 [12800/60000 (21%)]\tTrain Loss: 0.272895\n",
            "Train Epoch: 2 [19200/60000 (32%)]\tTrain Loss: 0.152473\n",
            "Train Epoch: 2 [25600/60000 (43%)]\tTrain Loss: 0.163313\n",
            "Train Epoch: 2 [32000/60000 (53%)]\tTrain Loss: 0.064482\n",
            "Train Epoch: 2 [38400/60000 (64%)]\tTrain Loss: 0.716168\n",
            "Train Epoch: 2 [44800/60000 (75%)]\tTrain Loss: 0.531752\n",
            "Train Epoch: 2 [51200/60000 (85%)]\tTrain Loss: 0.317965\n",
            "Train Epoch: 2 [57600/60000 (96%)]\tTrain Loss: 0.105608\n",
            "\n",
            "[EPOCH: 2], \tTest Loss: 0.1120, \tTest Accuracy: 96.62 % \n",
            "\n",
            "Train Epoch: 3 [0/60000 (0%)]\tTrain Loss: 0.398250\n",
            "Train Epoch: 3 [6400/60000 (11%)]\tTrain Loss: 0.071356\n",
            "Train Epoch: 3 [12800/60000 (21%)]\tTrain Loss: 0.225731\n",
            "Train Epoch: 3 [19200/60000 (32%)]\tTrain Loss: 0.222354\n",
            "Train Epoch: 3 [25600/60000 (43%)]\tTrain Loss: 0.299156\n",
            "Train Epoch: 3 [32000/60000 (53%)]\tTrain Loss: 0.154108\n",
            "Train Epoch: 3 [38400/60000 (64%)]\tTrain Loss: 0.118882\n",
            "Train Epoch: 3 [44800/60000 (75%)]\tTrain Loss: 0.161161\n",
            "Train Epoch: 3 [51200/60000 (85%)]\tTrain Loss: 0.086886\n",
            "Train Epoch: 3 [57600/60000 (96%)]\tTrain Loss: 0.085481\n",
            "\n",
            "[EPOCH: 3], \tTest Loss: 0.0970, \tTest Accuracy: 96.90 % \n",
            "\n",
            "Train Epoch: 4 [0/60000 (0%)]\tTrain Loss: 0.259391\n",
            "Train Epoch: 4 [6400/60000 (11%)]\tTrain Loss: 0.220535\n",
            "Train Epoch: 4 [12800/60000 (21%)]\tTrain Loss: 0.084835\n",
            "Train Epoch: 4 [19200/60000 (32%)]\tTrain Loss: 0.224616\n",
            "Train Epoch: 4 [25600/60000 (43%)]\tTrain Loss: 0.110541\n",
            "Train Epoch: 4 [32000/60000 (53%)]\tTrain Loss: 0.288306\n",
            "Train Epoch: 4 [38400/60000 (64%)]\tTrain Loss: 0.068254\n",
            "Train Epoch: 4 [44800/60000 (75%)]\tTrain Loss: 0.120326\n",
            "Train Epoch: 4 [51200/60000 (85%)]\tTrain Loss: 0.468463\n",
            "Train Epoch: 4 [57600/60000 (96%)]\tTrain Loss: 0.148897\n",
            "\n",
            "[EPOCH: 4], \tTest Loss: 0.0859, \tTest Accuracy: 97.37 % \n",
            "\n",
            "Train Epoch: 5 [0/60000 (0%)]\tTrain Loss: 0.102085\n",
            "Train Epoch: 5 [6400/60000 (11%)]\tTrain Loss: 0.168475\n",
            "Train Epoch: 5 [12800/60000 (21%)]\tTrain Loss: 0.141379\n",
            "Train Epoch: 5 [19200/60000 (32%)]\tTrain Loss: 0.118286\n",
            "Train Epoch: 5 [25600/60000 (43%)]\tTrain Loss: 0.073006\n",
            "Train Epoch: 5 [32000/60000 (53%)]\tTrain Loss: 0.163958\n",
            "Train Epoch: 5 [38400/60000 (64%)]\tTrain Loss: 0.218148\n",
            "Train Epoch: 5 [44800/60000 (75%)]\tTrain Loss: 0.390795\n",
            "Train Epoch: 5 [51200/60000 (85%)]\tTrain Loss: 0.476599\n",
            "Train Epoch: 5 [57600/60000 (96%)]\tTrain Loss: 0.059526\n",
            "\n",
            "[EPOCH: 5], \tTest Loss: 0.0799, \tTest Accuracy: 97.61 % \n",
            "\n",
            "Train Epoch: 6 [0/60000 (0%)]\tTrain Loss: 0.119065\n",
            "Train Epoch: 6 [6400/60000 (11%)]\tTrain Loss: 0.138967\n",
            "Train Epoch: 6 [12800/60000 (21%)]\tTrain Loss: 0.087090\n",
            "Train Epoch: 6 [19200/60000 (32%)]\tTrain Loss: 0.078568\n",
            "Train Epoch: 6 [25600/60000 (43%)]\tTrain Loss: 0.092914\n",
            "Train Epoch: 6 [32000/60000 (53%)]\tTrain Loss: 0.077961\n",
            "Train Epoch: 6 [38400/60000 (64%)]\tTrain Loss: 0.131087\n",
            "Train Epoch: 6 [44800/60000 (75%)]\tTrain Loss: 0.088443\n",
            "Train Epoch: 6 [51200/60000 (85%)]\tTrain Loss: 0.141716\n",
            "Train Epoch: 6 [57600/60000 (96%)]\tTrain Loss: 0.062066\n",
            "\n",
            "[EPOCH: 6], \tTest Loss: 0.0772, \tTest Accuracy: 97.62 % \n",
            "\n",
            "Train Epoch: 7 [0/60000 (0%)]\tTrain Loss: 0.078769\n",
            "Train Epoch: 7 [6400/60000 (11%)]\tTrain Loss: 0.042452\n",
            "Train Epoch: 7 [12800/60000 (21%)]\tTrain Loss: 0.060046\n",
            "Train Epoch: 7 [19200/60000 (32%)]\tTrain Loss: 0.072549\n",
            "Train Epoch: 7 [25600/60000 (43%)]\tTrain Loss: 0.038254\n",
            "Train Epoch: 7 [32000/60000 (53%)]\tTrain Loss: 0.205339\n",
            "Train Epoch: 7 [38400/60000 (64%)]\tTrain Loss: 0.121607\n",
            "Train Epoch: 7 [44800/60000 (75%)]\tTrain Loss: 0.203731\n",
            "Train Epoch: 7 [51200/60000 (85%)]\tTrain Loss: 0.131978\n",
            "Train Epoch: 7 [57600/60000 (96%)]\tTrain Loss: 0.163268\n",
            "\n",
            "[EPOCH: 7], \tTest Loss: 0.0723, \tTest Accuracy: 97.77 % \n",
            "\n",
            "Train Epoch: 8 [0/60000 (0%)]\tTrain Loss: 0.073366\n",
            "Train Epoch: 8 [6400/60000 (11%)]\tTrain Loss: 0.038600\n",
            "Train Epoch: 8 [12800/60000 (21%)]\tTrain Loss: 0.253343\n",
            "Train Epoch: 8 [19200/60000 (32%)]\tTrain Loss: 0.088564\n",
            "Train Epoch: 8 [25600/60000 (43%)]\tTrain Loss: 0.442423\n",
            "Train Epoch: 8 [32000/60000 (53%)]\tTrain Loss: 0.418149\n",
            "Train Epoch: 8 [38400/60000 (64%)]\tTrain Loss: 0.134290\n",
            "Train Epoch: 8 [44800/60000 (75%)]\tTrain Loss: 0.172049\n",
            "Train Epoch: 8 [51200/60000 (85%)]\tTrain Loss: 0.452969\n",
            "Train Epoch: 8 [57600/60000 (96%)]\tTrain Loss: 0.125385\n",
            "\n",
            "[EPOCH: 8], \tTest Loss: 0.0686, \tTest Accuracy: 97.92 % \n",
            "\n",
            "Train Epoch: 9 [0/60000 (0%)]\tTrain Loss: 0.156405\n",
            "Train Epoch: 9 [6400/60000 (11%)]\tTrain Loss: 0.204805\n",
            "Train Epoch: 9 [12800/60000 (21%)]\tTrain Loss: 0.244407\n",
            "Train Epoch: 9 [19200/60000 (32%)]\tTrain Loss: 0.042981\n",
            "Train Epoch: 9 [25600/60000 (43%)]\tTrain Loss: 0.062392\n",
            "Train Epoch: 9 [32000/60000 (53%)]\tTrain Loss: 0.214735\n",
            "Train Epoch: 9 [38400/60000 (64%)]\tTrain Loss: 0.026922\n",
            "Train Epoch: 9 [44800/60000 (75%)]\tTrain Loss: 0.240605\n",
            "Train Epoch: 9 [51200/60000 (85%)]\tTrain Loss: 0.211976\n",
            "Train Epoch: 9 [57600/60000 (96%)]\tTrain Loss: 0.182050\n",
            "\n",
            "[EPOCH: 9], \tTest Loss: 0.0672, \tTest Accuracy: 97.81 % \n",
            "\n",
            "Train Epoch: 10 [0/60000 (0%)]\tTrain Loss: 0.165349\n",
            "Train Epoch: 10 [6400/60000 (11%)]\tTrain Loss: 0.028427\n",
            "Train Epoch: 10 [12800/60000 (21%)]\tTrain Loss: 0.133490\n",
            "Train Epoch: 10 [19200/60000 (32%)]\tTrain Loss: 0.044778\n",
            "Train Epoch: 10 [25600/60000 (43%)]\tTrain Loss: 0.142183\n",
            "Train Epoch: 10 [32000/60000 (53%)]\tTrain Loss: 0.118831\n",
            "Train Epoch: 10 [38400/60000 (64%)]\tTrain Loss: 0.048538\n",
            "Train Epoch: 10 [44800/60000 (75%)]\tTrain Loss: 0.220887\n",
            "Train Epoch: 10 [51200/60000 (85%)]\tTrain Loss: 0.137338\n",
            "Train Epoch: 10 [57600/60000 (96%)]\tTrain Loss: 0.198886\n",
            "\n",
            "[EPOCH: 10], \tTest Loss: 0.0632, \tTest Accuracy: 98.05 % \n",
            "\n"
          ]
        }
      ]
    },
    {
      "cell_type": "markdown",
      "metadata": {
        "id": "pmEP1rMf8RMf"
      },
      "source": [
        "# with Dropout + ReLu + BN + He + Adam\n",
        "\n"
      ]
    },
    {
      "cell_type": "code",
      "metadata": {
        "id": "qOn_xejI8RMn"
      },
      "source": [
        "class Net(nn.Module):\n",
        "    def __init__(self):\n",
        "        super(Net, self).__init__()\n",
        "        self.fc1 = nn.Linear(28 * 28, 512)\n",
        "        self.fc2 = nn.Linear(512, 256)\n",
        "        self.fc3 = nn.Linear(256, 10)\n",
        "        self.dropout_prob = 0.5\n",
        "        self.batch_norm1 = nn.BatchNorm1d(512)\n",
        "        self.batch_norm2 = nn.BatchNorm1d(256)\n",
        "\n",
        "    def forward(self, x):\n",
        "        x = x.view(-1, 28 * 28)\n",
        "        x = self.fc1(x)\n",
        "        x = self.batch_norm1(x)\n",
        "        x = F.relu(x)\n",
        "        x = F.dropout(x, training=self.training, p = self.dropout_prob)\n",
        "        x = self.fc2(x)\n",
        "        x = self.batch_norm2(x)\n",
        "        x = F.relu(x)\n",
        "        x = F.dropout(x, training=self.training, p = self.dropout_prob)\n",
        "        x = self.fc3(x)\n",
        "        x = F.log_softmax(x, dim = 1)\n",
        "        return x"
      ],
      "execution_count": 17,
      "outputs": []
    },
    {
      "cell_type": "code",
      "metadata": {
        "colab": {
          "base_uri": "https://localhost:8080/"
        },
        "id": "pEbt0hdC8RMo",
        "outputId": "0fbb1bd8-9404-47b4-dbc2-8e6c9de52b1a"
      },
      "source": [
        "import torch.nn.init as init\n",
        "def weight_init(m):\n",
        "  if isinstance(m, nn.Linear):\n",
        "    init.kaiming_uniform_(m.weight.data)\n",
        "\n",
        "model = Net().to(DEVICE)\n",
        "model.apply(weight_init)\n",
        "optimizer = torch.optim.Adam(model.parameters(), lr = 0.01)\n",
        "criterion = nn.CrossEntropyLoss()\n",
        "\n",
        "print(model)"
      ],
      "execution_count": 18,
      "outputs": [
        {
          "output_type": "stream",
          "name": "stdout",
          "text": [
            "Net(\n",
            "  (fc1): Linear(in_features=784, out_features=512, bias=True)\n",
            "  (fc2): Linear(in_features=512, out_features=256, bias=True)\n",
            "  (fc3): Linear(in_features=256, out_features=10, bias=True)\n",
            "  (batch_norm1): BatchNorm1d(512, eps=1e-05, momentum=0.1, affine=True, track_running_stats=True)\n",
            "  (batch_norm2): BatchNorm1d(256, eps=1e-05, momentum=0.1, affine=True, track_running_stats=True)\n",
            ")\n"
          ]
        }
      ]
    },
    {
      "cell_type": "code",
      "metadata": {
        "id": "RS9S-Jso8RMo"
      },
      "source": [
        "def train(model, train_loader, optimizer, log_interval):\n",
        "    model.train()\n",
        "    for batch_idx, (image, label) in enumerate(train_loader):\n",
        "        image = image.to(DEVICE)\n",
        "        label = label.to(DEVICE)\n",
        "        optimizer.zero_grad()\n",
        "        output = model(image)\n",
        "        loss = criterion(output, label)\n",
        "        loss.backward()\n",
        "        optimizer.step()\n",
        "\n",
        "        if batch_idx % log_interval == 0:\n",
        "            print(\"Train Epoch: {} [{}/{} ({:.0f}%)]\\tTrain Loss: {:.6f}\".format(\n",
        "                epoch, batch_idx * len(image), \n",
        "                len(train_loader.dataset), 100. * batch_idx / len(train_loader), \n",
        "                loss.item()))"
      ],
      "execution_count": 19,
      "outputs": []
    },
    {
      "cell_type": "code",
      "metadata": {
        "id": "edraGPEI8RMo"
      },
      "source": [
        "def evaluate(model, test_loader):\n",
        "    model.eval()\n",
        "    test_loss = 0\n",
        "    correct = 0\n",
        "\n",
        "    with torch.no_grad():\n",
        "        for image, label in test_loader:\n",
        "            image = image.to(DEVICE)\n",
        "            label = label.to(DEVICE)\n",
        "            output = model(image)\n",
        "            test_loss += criterion(output, label).item()\n",
        "            prediction = output.max(1, keepdim = True)[1]\n",
        "            correct += prediction.eq(label.view_as(prediction)).sum().item()\n",
        "    \n",
        "    test_loss /= (len(test_loader.dataset) / BATCH_SIZE)\n",
        "    test_accuracy = 100. * correct / len(test_loader.dataset)\n",
        "    return test_loss, test_accuracy"
      ],
      "execution_count": 20,
      "outputs": []
    },
    {
      "cell_type": "code",
      "metadata": {
        "colab": {
          "base_uri": "https://localhost:8080/",
          "height": 987
        },
        "id": "JqpT2fft8RMo",
        "outputId": "1a99c103-fc9d-42d1-d8e7-be56f93fb278"
      },
      "source": [
        "#@title\n",
        "for epoch in range(1, EPOCHS + 1):\n",
        "    train(model, train_loader, optimizer, log_interval = 200)\n",
        "    test_loss, test_accuracy = evaluate(model, test_loader)\n",
        "    print(\"\\n[EPOCH: {}], \\tTest Loss: {:.4f}, \\tTest Accuracy: {:.2f} % \\n\".format(\n",
        "        epoch, test_loss, test_accuracy))"
      ],
      "execution_count": 21,
      "outputs": [
        {
          "output_type": "stream",
          "name": "stdout",
          "text": [
            "Train Epoch: 1 [0/60000 (0%)]\tTrain Loss: 3.226567\n",
            "Train Epoch: 1 [6400/60000 (11%)]\tTrain Loss: 0.782942\n",
            "Train Epoch: 1 [12800/60000 (21%)]\tTrain Loss: 0.449805\n",
            "Train Epoch: 1 [19200/60000 (32%)]\tTrain Loss: 0.423105\n",
            "Train Epoch: 1 [25600/60000 (43%)]\tTrain Loss: 0.883316\n",
            "Train Epoch: 1 [32000/60000 (53%)]\tTrain Loss: 0.213023\n",
            "Train Epoch: 1 [38400/60000 (64%)]\tTrain Loss: 0.321610\n",
            "Train Epoch: 1 [44800/60000 (75%)]\tTrain Loss: 0.375515\n",
            "Train Epoch: 1 [51200/60000 (85%)]\tTrain Loss: 0.393329\n",
            "Train Epoch: 1 [57600/60000 (96%)]\tTrain Loss: 0.775837\n",
            "\n",
            "[EPOCH: 1], \tTest Loss: 0.1440, \tTest Accuracy: 95.75 % \n",
            "\n",
            "Train Epoch: 2 [0/60000 (0%)]\tTrain Loss: 0.483084\n",
            "Train Epoch: 2 [6400/60000 (11%)]\tTrain Loss: 0.207655\n",
            "Train Epoch: 2 [12800/60000 (21%)]\tTrain Loss: 0.111262\n",
            "Train Epoch: 2 [19200/60000 (32%)]\tTrain Loss: 0.320957\n",
            "Train Epoch: 2 [25600/60000 (43%)]\tTrain Loss: 0.400236\n",
            "Train Epoch: 2 [32000/60000 (53%)]\tTrain Loss: 0.233719\n",
            "Train Epoch: 2 [38400/60000 (64%)]\tTrain Loss: 0.162042\n",
            "Train Epoch: 2 [44800/60000 (75%)]\tTrain Loss: 0.256379\n",
            "Train Epoch: 2 [51200/60000 (85%)]\tTrain Loss: 0.169991\n",
            "Train Epoch: 2 [57600/60000 (96%)]\tTrain Loss: 0.151154\n",
            "\n",
            "[EPOCH: 2], \tTest Loss: 0.1027, \tTest Accuracy: 96.85 % \n",
            "\n",
            "Train Epoch: 3 [0/60000 (0%)]\tTrain Loss: 0.212251\n",
            "Train Epoch: 3 [6400/60000 (11%)]\tTrain Loss: 0.446084\n",
            "Train Epoch: 3 [12800/60000 (21%)]\tTrain Loss: 0.174785\n",
            "Train Epoch: 3 [19200/60000 (32%)]\tTrain Loss: 0.051395\n",
            "Train Epoch: 3 [25600/60000 (43%)]\tTrain Loss: 0.116184\n",
            "Train Epoch: 3 [32000/60000 (53%)]\tTrain Loss: 0.096921\n",
            "Train Epoch: 3 [38400/60000 (64%)]\tTrain Loss: 0.353870\n",
            "Train Epoch: 3 [44800/60000 (75%)]\tTrain Loss: 0.244036\n",
            "Train Epoch: 3 [51200/60000 (85%)]\tTrain Loss: 0.213937\n",
            "Train Epoch: 3 [57600/60000 (96%)]\tTrain Loss: 0.224436\n"
          ]
        },
        {
          "output_type": "error",
          "ename": "KeyboardInterrupt",
          "evalue": "ignored",
          "traceback": [
            "\u001b[0;31m---------------------------------------------------------------------------\u001b[0m",
            "\u001b[0;31mKeyboardInterrupt\u001b[0m                         Traceback (most recent call last)",
            "\u001b[0;32m<ipython-input-21-ef240ef05655>\u001b[0m in \u001b[0;36m<module>\u001b[0;34m()\u001b[0m\n\u001b[1;32m      1\u001b[0m \u001b[0;31m#@title\u001b[0m\u001b[0;34m\u001b[0m\u001b[0;34m\u001b[0m\u001b[0;34m\u001b[0m\u001b[0m\n\u001b[1;32m      2\u001b[0m \u001b[0;32mfor\u001b[0m \u001b[0mepoch\u001b[0m \u001b[0;32min\u001b[0m \u001b[0mrange\u001b[0m\u001b[0;34m(\u001b[0m\u001b[0;36m1\u001b[0m\u001b[0;34m,\u001b[0m \u001b[0mEPOCHS\u001b[0m \u001b[0;34m+\u001b[0m \u001b[0;36m1\u001b[0m\u001b[0;34m)\u001b[0m\u001b[0;34m:\u001b[0m\u001b[0;34m\u001b[0m\u001b[0;34m\u001b[0m\u001b[0m\n\u001b[0;32m----> 3\u001b[0;31m     \u001b[0mtrain\u001b[0m\u001b[0;34m(\u001b[0m\u001b[0mmodel\u001b[0m\u001b[0;34m,\u001b[0m \u001b[0mtrain_loader\u001b[0m\u001b[0;34m,\u001b[0m \u001b[0moptimizer\u001b[0m\u001b[0;34m,\u001b[0m \u001b[0mlog_interval\u001b[0m \u001b[0;34m=\u001b[0m \u001b[0;36m200\u001b[0m\u001b[0;34m)\u001b[0m\u001b[0;34m\u001b[0m\u001b[0;34m\u001b[0m\u001b[0m\n\u001b[0m\u001b[1;32m      4\u001b[0m     \u001b[0mtest_loss\u001b[0m\u001b[0;34m,\u001b[0m \u001b[0mtest_accuracy\u001b[0m \u001b[0;34m=\u001b[0m \u001b[0mevaluate\u001b[0m\u001b[0;34m(\u001b[0m\u001b[0mmodel\u001b[0m\u001b[0;34m,\u001b[0m \u001b[0mtest_loader\u001b[0m\u001b[0;34m)\u001b[0m\u001b[0;34m\u001b[0m\u001b[0;34m\u001b[0m\u001b[0m\n\u001b[1;32m      5\u001b[0m     print(\"\\n[EPOCH: {}], \\tTest Loss: {:.4f}, \\tTest Accuracy: {:.2f} % \\n\".format(\n",
            "\u001b[0;32m<ipython-input-19-be98d565d6de>\u001b[0m in \u001b[0;36mtrain\u001b[0;34m(model, train_loader, optimizer, log_interval)\u001b[0m\n\u001b[1;32m      1\u001b[0m \u001b[0;32mdef\u001b[0m \u001b[0mtrain\u001b[0m\u001b[0;34m(\u001b[0m\u001b[0mmodel\u001b[0m\u001b[0;34m,\u001b[0m \u001b[0mtrain_loader\u001b[0m\u001b[0;34m,\u001b[0m \u001b[0moptimizer\u001b[0m\u001b[0;34m,\u001b[0m \u001b[0mlog_interval\u001b[0m\u001b[0;34m)\u001b[0m\u001b[0;34m:\u001b[0m\u001b[0;34m\u001b[0m\u001b[0;34m\u001b[0m\u001b[0m\n\u001b[1;32m      2\u001b[0m     \u001b[0mmodel\u001b[0m\u001b[0;34m.\u001b[0m\u001b[0mtrain\u001b[0m\u001b[0;34m(\u001b[0m\u001b[0;34m)\u001b[0m\u001b[0;34m\u001b[0m\u001b[0;34m\u001b[0m\u001b[0m\n\u001b[0;32m----> 3\u001b[0;31m     \u001b[0;32mfor\u001b[0m \u001b[0mbatch_idx\u001b[0m\u001b[0;34m,\u001b[0m \u001b[0;34m(\u001b[0m\u001b[0mimage\u001b[0m\u001b[0;34m,\u001b[0m \u001b[0mlabel\u001b[0m\u001b[0;34m)\u001b[0m \u001b[0;32min\u001b[0m \u001b[0menumerate\u001b[0m\u001b[0;34m(\u001b[0m\u001b[0mtrain_loader\u001b[0m\u001b[0;34m)\u001b[0m\u001b[0;34m:\u001b[0m\u001b[0;34m\u001b[0m\u001b[0;34m\u001b[0m\u001b[0m\n\u001b[0m\u001b[1;32m      4\u001b[0m         \u001b[0mimage\u001b[0m \u001b[0;34m=\u001b[0m \u001b[0mimage\u001b[0m\u001b[0;34m.\u001b[0m\u001b[0mto\u001b[0m\u001b[0;34m(\u001b[0m\u001b[0mDEVICE\u001b[0m\u001b[0;34m)\u001b[0m\u001b[0;34m\u001b[0m\u001b[0;34m\u001b[0m\u001b[0m\n\u001b[1;32m      5\u001b[0m         \u001b[0mlabel\u001b[0m \u001b[0;34m=\u001b[0m \u001b[0mlabel\u001b[0m\u001b[0;34m.\u001b[0m\u001b[0mto\u001b[0m\u001b[0;34m(\u001b[0m\u001b[0mDEVICE\u001b[0m\u001b[0;34m)\u001b[0m\u001b[0;34m\u001b[0m\u001b[0;34m\u001b[0m\u001b[0m\n",
            "\u001b[0;32m/usr/local/lib/python3.7/dist-packages/torch/utils/data/dataloader.py\u001b[0m in \u001b[0;36m__next__\u001b[0;34m(self)\u001b[0m\n\u001b[1;32m    519\u001b[0m             \u001b[0;32mif\u001b[0m \u001b[0mself\u001b[0m\u001b[0;34m.\u001b[0m\u001b[0m_sampler_iter\u001b[0m \u001b[0;32mis\u001b[0m \u001b[0;32mNone\u001b[0m\u001b[0;34m:\u001b[0m\u001b[0;34m\u001b[0m\u001b[0;34m\u001b[0m\u001b[0m\n\u001b[1;32m    520\u001b[0m                 \u001b[0mself\u001b[0m\u001b[0;34m.\u001b[0m\u001b[0m_reset\u001b[0m\u001b[0;34m(\u001b[0m\u001b[0;34m)\u001b[0m\u001b[0;34m\u001b[0m\u001b[0;34m\u001b[0m\u001b[0m\n\u001b[0;32m--> 521\u001b[0;31m             \u001b[0mdata\u001b[0m \u001b[0;34m=\u001b[0m \u001b[0mself\u001b[0m\u001b[0;34m.\u001b[0m\u001b[0m_next_data\u001b[0m\u001b[0;34m(\u001b[0m\u001b[0;34m)\u001b[0m\u001b[0;34m\u001b[0m\u001b[0;34m\u001b[0m\u001b[0m\n\u001b[0m\u001b[1;32m    522\u001b[0m             \u001b[0mself\u001b[0m\u001b[0;34m.\u001b[0m\u001b[0m_num_yielded\u001b[0m \u001b[0;34m+=\u001b[0m \u001b[0;36m1\u001b[0m\u001b[0;34m\u001b[0m\u001b[0;34m\u001b[0m\u001b[0m\n\u001b[1;32m    523\u001b[0m             \u001b[0;32mif\u001b[0m \u001b[0mself\u001b[0m\u001b[0;34m.\u001b[0m\u001b[0m_dataset_kind\u001b[0m \u001b[0;34m==\u001b[0m \u001b[0m_DatasetKind\u001b[0m\u001b[0;34m.\u001b[0m\u001b[0mIterable\u001b[0m \u001b[0;32mand\u001b[0m\u001b[0;31m \u001b[0m\u001b[0;31m\\\u001b[0m\u001b[0;34m\u001b[0m\u001b[0;34m\u001b[0m\u001b[0m\n",
            "\u001b[0;32m/usr/local/lib/python3.7/dist-packages/torch/utils/data/dataloader.py\u001b[0m in \u001b[0;36m_next_data\u001b[0;34m(self)\u001b[0m\n\u001b[1;32m    559\u001b[0m     \u001b[0;32mdef\u001b[0m \u001b[0m_next_data\u001b[0m\u001b[0;34m(\u001b[0m\u001b[0mself\u001b[0m\u001b[0;34m)\u001b[0m\u001b[0;34m:\u001b[0m\u001b[0;34m\u001b[0m\u001b[0;34m\u001b[0m\u001b[0m\n\u001b[1;32m    560\u001b[0m         \u001b[0mindex\u001b[0m \u001b[0;34m=\u001b[0m \u001b[0mself\u001b[0m\u001b[0;34m.\u001b[0m\u001b[0m_next_index\u001b[0m\u001b[0;34m(\u001b[0m\u001b[0;34m)\u001b[0m  \u001b[0;31m# may raise StopIteration\u001b[0m\u001b[0;34m\u001b[0m\u001b[0;34m\u001b[0m\u001b[0m\n\u001b[0;32m--> 561\u001b[0;31m         \u001b[0mdata\u001b[0m \u001b[0;34m=\u001b[0m \u001b[0mself\u001b[0m\u001b[0;34m.\u001b[0m\u001b[0m_dataset_fetcher\u001b[0m\u001b[0;34m.\u001b[0m\u001b[0mfetch\u001b[0m\u001b[0;34m(\u001b[0m\u001b[0mindex\u001b[0m\u001b[0;34m)\u001b[0m  \u001b[0;31m# may raise StopIteration\u001b[0m\u001b[0;34m\u001b[0m\u001b[0;34m\u001b[0m\u001b[0m\n\u001b[0m\u001b[1;32m    562\u001b[0m         \u001b[0;32mif\u001b[0m \u001b[0mself\u001b[0m\u001b[0;34m.\u001b[0m\u001b[0m_pin_memory\u001b[0m\u001b[0;34m:\u001b[0m\u001b[0;34m\u001b[0m\u001b[0;34m\u001b[0m\u001b[0m\n\u001b[1;32m    563\u001b[0m             \u001b[0mdata\u001b[0m \u001b[0;34m=\u001b[0m \u001b[0m_utils\u001b[0m\u001b[0;34m.\u001b[0m\u001b[0mpin_memory\u001b[0m\u001b[0;34m.\u001b[0m\u001b[0mpin_memory\u001b[0m\u001b[0;34m(\u001b[0m\u001b[0mdata\u001b[0m\u001b[0;34m)\u001b[0m\u001b[0;34m\u001b[0m\u001b[0;34m\u001b[0m\u001b[0m\n",
            "\u001b[0;32m/usr/local/lib/python3.7/dist-packages/torch/utils/data/_utils/fetch.py\u001b[0m in \u001b[0;36mfetch\u001b[0;34m(self, possibly_batched_index)\u001b[0m\n\u001b[1;32m     42\u001b[0m     \u001b[0;32mdef\u001b[0m \u001b[0mfetch\u001b[0m\u001b[0;34m(\u001b[0m\u001b[0mself\u001b[0m\u001b[0;34m,\u001b[0m \u001b[0mpossibly_batched_index\u001b[0m\u001b[0;34m)\u001b[0m\u001b[0;34m:\u001b[0m\u001b[0;34m\u001b[0m\u001b[0;34m\u001b[0m\u001b[0m\n\u001b[1;32m     43\u001b[0m         \u001b[0;32mif\u001b[0m \u001b[0mself\u001b[0m\u001b[0;34m.\u001b[0m\u001b[0mauto_collation\u001b[0m\u001b[0;34m:\u001b[0m\u001b[0;34m\u001b[0m\u001b[0;34m\u001b[0m\u001b[0m\n\u001b[0;32m---> 44\u001b[0;31m             \u001b[0mdata\u001b[0m \u001b[0;34m=\u001b[0m \u001b[0;34m[\u001b[0m\u001b[0mself\u001b[0m\u001b[0;34m.\u001b[0m\u001b[0mdataset\u001b[0m\u001b[0;34m[\u001b[0m\u001b[0midx\u001b[0m\u001b[0;34m]\u001b[0m \u001b[0;32mfor\u001b[0m \u001b[0midx\u001b[0m \u001b[0;32min\u001b[0m \u001b[0mpossibly_batched_index\u001b[0m\u001b[0;34m]\u001b[0m\u001b[0;34m\u001b[0m\u001b[0;34m\u001b[0m\u001b[0m\n\u001b[0m\u001b[1;32m     45\u001b[0m         \u001b[0;32melse\u001b[0m\u001b[0;34m:\u001b[0m\u001b[0;34m\u001b[0m\u001b[0;34m\u001b[0m\u001b[0m\n\u001b[1;32m     46\u001b[0m             \u001b[0mdata\u001b[0m \u001b[0;34m=\u001b[0m \u001b[0mself\u001b[0m\u001b[0;34m.\u001b[0m\u001b[0mdataset\u001b[0m\u001b[0;34m[\u001b[0m\u001b[0mpossibly_batched_index\u001b[0m\u001b[0;34m]\u001b[0m\u001b[0;34m\u001b[0m\u001b[0;34m\u001b[0m\u001b[0m\n",
            "\u001b[0;32m/usr/local/lib/python3.7/dist-packages/torch/utils/data/_utils/fetch.py\u001b[0m in \u001b[0;36m<listcomp>\u001b[0;34m(.0)\u001b[0m\n\u001b[1;32m     42\u001b[0m     \u001b[0;32mdef\u001b[0m \u001b[0mfetch\u001b[0m\u001b[0;34m(\u001b[0m\u001b[0mself\u001b[0m\u001b[0;34m,\u001b[0m \u001b[0mpossibly_batched_index\u001b[0m\u001b[0;34m)\u001b[0m\u001b[0;34m:\u001b[0m\u001b[0;34m\u001b[0m\u001b[0;34m\u001b[0m\u001b[0m\n\u001b[1;32m     43\u001b[0m         \u001b[0;32mif\u001b[0m \u001b[0mself\u001b[0m\u001b[0;34m.\u001b[0m\u001b[0mauto_collation\u001b[0m\u001b[0;34m:\u001b[0m\u001b[0;34m\u001b[0m\u001b[0;34m\u001b[0m\u001b[0m\n\u001b[0;32m---> 44\u001b[0;31m             \u001b[0mdata\u001b[0m \u001b[0;34m=\u001b[0m \u001b[0;34m[\u001b[0m\u001b[0mself\u001b[0m\u001b[0;34m.\u001b[0m\u001b[0mdataset\u001b[0m\u001b[0;34m[\u001b[0m\u001b[0midx\u001b[0m\u001b[0;34m]\u001b[0m \u001b[0;32mfor\u001b[0m \u001b[0midx\u001b[0m \u001b[0;32min\u001b[0m \u001b[0mpossibly_batched_index\u001b[0m\u001b[0;34m]\u001b[0m\u001b[0;34m\u001b[0m\u001b[0;34m\u001b[0m\u001b[0m\n\u001b[0m\u001b[1;32m     45\u001b[0m         \u001b[0;32melse\u001b[0m\u001b[0;34m:\u001b[0m\u001b[0;34m\u001b[0m\u001b[0;34m\u001b[0m\u001b[0m\n\u001b[1;32m     46\u001b[0m             \u001b[0mdata\u001b[0m \u001b[0;34m=\u001b[0m \u001b[0mself\u001b[0m\u001b[0;34m.\u001b[0m\u001b[0mdataset\u001b[0m\u001b[0;34m[\u001b[0m\u001b[0mpossibly_batched_index\u001b[0m\u001b[0;34m]\u001b[0m\u001b[0;34m\u001b[0m\u001b[0;34m\u001b[0m\u001b[0m\n",
            "\u001b[0;32m/usr/local/lib/python3.7/dist-packages/torchvision/datasets/mnist.py\u001b[0m in \u001b[0;36m__getitem__\u001b[0;34m(self, index)\u001b[0m\n\u001b[1;32m    129\u001b[0m         \u001b[0;31m# doing this so that it is consistent with all other datasets\u001b[0m\u001b[0;34m\u001b[0m\u001b[0;34m\u001b[0m\u001b[0;34m\u001b[0m\u001b[0m\n\u001b[1;32m    130\u001b[0m         \u001b[0;31m# to return a PIL Image\u001b[0m\u001b[0;34m\u001b[0m\u001b[0;34m\u001b[0m\u001b[0;34m\u001b[0m\u001b[0m\n\u001b[0;32m--> 131\u001b[0;31m         \u001b[0mimg\u001b[0m \u001b[0;34m=\u001b[0m \u001b[0mImage\u001b[0m\u001b[0;34m.\u001b[0m\u001b[0mfromarray\u001b[0m\u001b[0;34m(\u001b[0m\u001b[0mimg\u001b[0m\u001b[0;34m.\u001b[0m\u001b[0mnumpy\u001b[0m\u001b[0;34m(\u001b[0m\u001b[0;34m)\u001b[0m\u001b[0;34m,\u001b[0m \u001b[0mmode\u001b[0m\u001b[0;34m=\u001b[0m\u001b[0;34m'L'\u001b[0m\u001b[0;34m)\u001b[0m\u001b[0;34m\u001b[0m\u001b[0;34m\u001b[0m\u001b[0m\n\u001b[0m\u001b[1;32m    132\u001b[0m \u001b[0;34m\u001b[0m\u001b[0m\n\u001b[1;32m    133\u001b[0m         \u001b[0;32mif\u001b[0m \u001b[0mself\u001b[0m\u001b[0;34m.\u001b[0m\u001b[0mtransform\u001b[0m \u001b[0;32mis\u001b[0m \u001b[0;32mnot\u001b[0m \u001b[0;32mNone\u001b[0m\u001b[0;34m:\u001b[0m\u001b[0;34m\u001b[0m\u001b[0;34m\u001b[0m\u001b[0m\n",
            "\u001b[0;32m/usr/local/lib/python3.7/dist-packages/PIL/Image.py\u001b[0m in \u001b[0;36mfromarray\u001b[0;34m(obj, mode)\u001b[0m\n\u001b[1;32m   2733\u001b[0m             \u001b[0mobj\u001b[0m \u001b[0;34m=\u001b[0m \u001b[0mobj\u001b[0m\u001b[0;34m.\u001b[0m\u001b[0mtostring\u001b[0m\u001b[0;34m(\u001b[0m\u001b[0;34m)\u001b[0m\u001b[0;34m\u001b[0m\u001b[0;34m\u001b[0m\u001b[0m\n\u001b[1;32m   2734\u001b[0m \u001b[0;34m\u001b[0m\u001b[0m\n\u001b[0;32m-> 2735\u001b[0;31m     \u001b[0;32mreturn\u001b[0m \u001b[0mfrombuffer\u001b[0m\u001b[0;34m(\u001b[0m\u001b[0mmode\u001b[0m\u001b[0;34m,\u001b[0m \u001b[0msize\u001b[0m\u001b[0;34m,\u001b[0m \u001b[0mobj\u001b[0m\u001b[0;34m,\u001b[0m \u001b[0;34m\"raw\"\u001b[0m\u001b[0;34m,\u001b[0m \u001b[0mrawmode\u001b[0m\u001b[0;34m,\u001b[0m \u001b[0;36m0\u001b[0m\u001b[0;34m,\u001b[0m \u001b[0;36m1\u001b[0m\u001b[0;34m)\u001b[0m\u001b[0;34m\u001b[0m\u001b[0;34m\u001b[0m\u001b[0m\n\u001b[0m\u001b[1;32m   2736\u001b[0m \u001b[0;34m\u001b[0m\u001b[0m\n\u001b[1;32m   2737\u001b[0m \u001b[0;34m\u001b[0m\u001b[0m\n",
            "\u001b[0;32m/usr/local/lib/python3.7/dist-packages/PIL/Image.py\u001b[0m in \u001b[0;36mfrombuffer\u001b[0;34m(mode, size, data, decoder_name, *args)\u001b[0m\n\u001b[1;32m   2668\u001b[0m             \u001b[0margs\u001b[0m \u001b[0;34m=\u001b[0m \u001b[0mmode\u001b[0m\u001b[0;34m,\u001b[0m \u001b[0;36m0\u001b[0m\u001b[0;34m,\u001b[0m \u001b[0;36m1\u001b[0m\u001b[0;34m\u001b[0m\u001b[0;34m\u001b[0m\u001b[0m\n\u001b[1;32m   2669\u001b[0m         \u001b[0;32mif\u001b[0m \u001b[0margs\u001b[0m\u001b[0;34m[\u001b[0m\u001b[0;36m0\u001b[0m\u001b[0;34m]\u001b[0m \u001b[0;32min\u001b[0m \u001b[0m_MAPMODES\u001b[0m\u001b[0;34m:\u001b[0m\u001b[0;34m\u001b[0m\u001b[0;34m\u001b[0m\u001b[0m\n\u001b[0;32m-> 2670\u001b[0;31m             \u001b[0mim\u001b[0m \u001b[0;34m=\u001b[0m \u001b[0mnew\u001b[0m\u001b[0;34m(\u001b[0m\u001b[0mmode\u001b[0m\u001b[0;34m,\u001b[0m \u001b[0;34m(\u001b[0m\u001b[0;36m1\u001b[0m\u001b[0;34m,\u001b[0m \u001b[0;36m1\u001b[0m\u001b[0;34m)\u001b[0m\u001b[0;34m)\u001b[0m\u001b[0;34m\u001b[0m\u001b[0;34m\u001b[0m\u001b[0m\n\u001b[0m\u001b[1;32m   2671\u001b[0m             \u001b[0mim\u001b[0m \u001b[0;34m=\u001b[0m \u001b[0mim\u001b[0m\u001b[0;34m.\u001b[0m\u001b[0m_new\u001b[0m\u001b[0;34m(\u001b[0m\u001b[0mcore\u001b[0m\u001b[0;34m.\u001b[0m\u001b[0mmap_buffer\u001b[0m\u001b[0;34m(\u001b[0m\u001b[0mdata\u001b[0m\u001b[0;34m,\u001b[0m \u001b[0msize\u001b[0m\u001b[0;34m,\u001b[0m \u001b[0mdecoder_name\u001b[0m\u001b[0;34m,\u001b[0m \u001b[0;36m0\u001b[0m\u001b[0;34m,\u001b[0m \u001b[0margs\u001b[0m\u001b[0;34m)\u001b[0m\u001b[0;34m)\u001b[0m\u001b[0;34m\u001b[0m\u001b[0;34m\u001b[0m\u001b[0m\n\u001b[1;32m   2672\u001b[0m             \u001b[0mim\u001b[0m\u001b[0;34m.\u001b[0m\u001b[0mreadonly\u001b[0m \u001b[0;34m=\u001b[0m \u001b[0;36m1\u001b[0m\u001b[0;34m\u001b[0m\u001b[0;34m\u001b[0m\u001b[0m\n",
            "\u001b[0;32m/usr/local/lib/python3.7/dist-packages/PIL/Image.py\u001b[0m in \u001b[0;36mnew\u001b[0;34m(mode, size, color)\u001b[0m\n\u001b[1;32m   2569\u001b[0m         \u001b[0mcolor\u001b[0m \u001b[0;34m=\u001b[0m \u001b[0mImageColor\u001b[0m\u001b[0;34m.\u001b[0m\u001b[0mgetcolor\u001b[0m\u001b[0;34m(\u001b[0m\u001b[0mcolor\u001b[0m\u001b[0;34m,\u001b[0m \u001b[0mmode\u001b[0m\u001b[0;34m)\u001b[0m\u001b[0;34m\u001b[0m\u001b[0;34m\u001b[0m\u001b[0m\n\u001b[1;32m   2570\u001b[0m \u001b[0;34m\u001b[0m\u001b[0m\n\u001b[0;32m-> 2571\u001b[0;31m     \u001b[0mim\u001b[0m \u001b[0;34m=\u001b[0m \u001b[0mImage\u001b[0m\u001b[0;34m(\u001b[0m\u001b[0;34m)\u001b[0m\u001b[0;34m\u001b[0m\u001b[0;34m\u001b[0m\u001b[0m\n\u001b[0m\u001b[1;32m   2572\u001b[0m     \u001b[0;32mif\u001b[0m \u001b[0mmode\u001b[0m \u001b[0;34m==\u001b[0m \u001b[0;34m\"P\"\u001b[0m \u001b[0;32mand\u001b[0m \u001b[0misinstance\u001b[0m\u001b[0;34m(\u001b[0m\u001b[0mcolor\u001b[0m\u001b[0;34m,\u001b[0m \u001b[0;34m(\u001b[0m\u001b[0mlist\u001b[0m\u001b[0;34m,\u001b[0m \u001b[0mtuple\u001b[0m\u001b[0;34m)\u001b[0m\u001b[0;34m)\u001b[0m \u001b[0;32mand\u001b[0m \u001b[0mlen\u001b[0m\u001b[0;34m(\u001b[0m\u001b[0mcolor\u001b[0m\u001b[0;34m)\u001b[0m \u001b[0;32min\u001b[0m \u001b[0;34m[\u001b[0m\u001b[0;36m3\u001b[0m\u001b[0;34m,\u001b[0m \u001b[0;36m4\u001b[0m\u001b[0;34m]\u001b[0m\u001b[0;34m:\u001b[0m\u001b[0;34m\u001b[0m\u001b[0;34m\u001b[0m\u001b[0m\n\u001b[1;32m   2573\u001b[0m         \u001b[0;31m# RGB or RGBA value for a P image\u001b[0m\u001b[0;34m\u001b[0m\u001b[0;34m\u001b[0m\u001b[0;34m\u001b[0m\u001b[0m\n",
            "\u001b[0;32m/usr/local/lib/python3.7/dist-packages/PIL/Image.py\u001b[0m in \u001b[0;36m__init__\u001b[0;34m(self)\u001b[0m\n\u001b[1;32m    527\u001b[0m     \u001b[0m_close_exclusive_fp_after_loading\u001b[0m \u001b[0;34m=\u001b[0m \u001b[0;32mTrue\u001b[0m\u001b[0;34m\u001b[0m\u001b[0;34m\u001b[0m\u001b[0m\n\u001b[1;32m    528\u001b[0m \u001b[0;34m\u001b[0m\u001b[0m\n\u001b[0;32m--> 529\u001b[0;31m     \u001b[0;32mdef\u001b[0m \u001b[0m__init__\u001b[0m\u001b[0;34m(\u001b[0m\u001b[0mself\u001b[0m\u001b[0;34m)\u001b[0m\u001b[0;34m:\u001b[0m\u001b[0;34m\u001b[0m\u001b[0;34m\u001b[0m\u001b[0m\n\u001b[0m\u001b[1;32m    530\u001b[0m         \u001b[0;31m# FIXME: take \"new\" parameters / other image?\u001b[0m\u001b[0;34m\u001b[0m\u001b[0;34m\u001b[0m\u001b[0;34m\u001b[0m\u001b[0m\n\u001b[1;32m    531\u001b[0m         \u001b[0;31m# FIXME: turn mode and size into delegating properties?\u001b[0m\u001b[0;34m\u001b[0m\u001b[0;34m\u001b[0m\u001b[0;34m\u001b[0m\u001b[0m\n",
            "\u001b[0;31mKeyboardInterrupt\u001b[0m: "
          ]
        }
      ]
    }
  ]
}